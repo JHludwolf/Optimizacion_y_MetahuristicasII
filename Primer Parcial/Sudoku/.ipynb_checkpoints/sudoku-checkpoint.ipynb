{
 "cells": [
  {
   "cell_type": "code",
   "execution_count": 1,
   "metadata": {},
   "outputs": [],
   "source": [
    "import numpy as np\n",
    "import pandas as pd\n",
    "import matplotlib.pyplot as plt\n",
    "import math \n",
    "import random\n",
    "import copy"
   ]
  },
  {
   "cell_type": "code",
   "execution_count": 2,
   "metadata": {},
   "outputs": [],
   "source": [
    "class Sudoku:\n",
    "    rows = []\n",
    "    cols = []\n",
    "    grids = []\n",
    "\n",
    "    def __init__(self, gridSize, rows = None):\n",
    "        self.gridSize = gridSize\n",
    "\n",
    "        if rows is not None:\n",
    "            self.rows = rows\n",
    "        else:\n",
    "            #self.values = np.array([random.randint(1, gridSize**2) for _ in range(gridSize**4)])\n",
    "            #self.rows = self.values.reshape((gridSize**2, gridSize**2))\n",
    "            self.rows = np.array([np.random.permutation(np.arange(1, (gridSize**2)+1)) for _ in range((gridSize**2)+1)])\n",
    "        \n",
    "        self._updateLists()\n",
    "        self.fitness = self._getFitness()\n",
    "\n",
    "    def _getFitness(self):\n",
    "        score = 0\n",
    "        for row in self.rows:\n",
    "            if(len(np.unique(row)) == self.gridSize**2):\n",
    "                score += 1\n",
    "\n",
    "        for col in self.cols:\n",
    "            if(len(np.unique(col)) == self.gridSize**2):\n",
    "                score += 1\n",
    "\n",
    "        for grid in self.grids:\n",
    "            if(len(np.unique(grid)) == self.gridSize**2):\n",
    "                score += 1\n",
    "\n",
    "        return score\n",
    "\n",
    "\n",
    "    def _updateLists(self):\n",
    "        self.cols = self.rows.transpose()\n",
    "        \n",
    "        self.grids = [[] for _ in range(9)]\n",
    "        \n",
    "        for row_id in range(self.gridSize**2):\n",
    "            for col_id in range(self.gridSize**2):\n",
    "                idx = int(col_id // self.gridSize + ((row_id // self.gridSize) * self.gridSize))\n",
    "                self.grids[idx].append(self.rows[row_id][col_id])\n",
    "\n",
    "        self.grids = np.array(self.grids, dtype=np.ndarray)\n",
    "        self._getFitness()\n",
    "\n",
    "    def pointCrossover(self, B, reproductionProbability):\n",
    "        if random.random() < reproductionProbability:\n",
    "            crosspoint = random.randint(0, (self.gridSize**2)-1)\n",
    "            return Sudoku(self.gridSize, np.concatenate((self.rows[:crosspoint], B.rows[crosspoint:])))\n",
    "        else:\n",
    "            return Sudoku(3, self.rows)\n",
    "            \n",
    "    def mutation(self, mutationProbability):\n",
    "        if random.random() < mutationProbability:\n",
    "            idx = random.randint(0, (self.gridSize**2)-1)\n",
    "            self.rows[idx] =  np.random.permutation(np.arange(1, (self.gridSize**2)+1))\n",
    "            self._updateLists()\n",
    "\n",
    "    def plot(self):\n",
    "        \n",
    "        fig = plt.figure(figsize=(5,5))\n",
    "        plt.title(\"Score: \" + str(self.fitness))\n",
    "        ax = fig.add_subplot(111)\n",
    "        ax.set_xlim((0, 9))\n",
    "        ax.set_ylim((0, 9))\n",
    "\n",
    "        #ax.annotate(\"Rectangle\", (cx, cy), color='black', weight='bold', fontsize=10, ha='center', va='center')\n",
    "        for i in range(self.gridSize**2):\n",
    "            for j in range(self.gridSize**2):\n",
    "                ax.annotate(str(self.rows[i][j]), (i+0.5, j+0.5), color='black', weight='bold', fontsize=15, ha='center', va='center')\n",
    "        '''count = 0\n",
    "        for queen in solution:\n",
    "            ax.add_patch(plt.Rectangle((count, queen), 1, 1))\n",
    "            count += 1'''\n",
    "        plt.grid(True)\n",
    "        plt.show(fig)\n"
   ]
  },
  {
   "cell_type": "code",
   "execution_count": 3,
   "metadata": {},
   "outputs": [],
   "source": [
    "class GeneticAlgorithm:\n",
    "\n",
    "    def __init__(self, gridSize, populationSize, generations, reproductionProbability, mutationProbability):\n",
    "        self.gridSize = gridSize\n",
    "        self.populationSize = populationSize\n",
    "        self.generations = generations\n",
    "        self.reproductionProbability = reproductionProbability\n",
    "        self.mutationProbability = mutationProbability\n",
    "\n",
    "    def _getPopulation(self):\n",
    "        return [Sudoku(self.gridSize) for _ in range(self.populationSize)]\n",
    "\n",
    "    def _getElite(self, A, B):\n",
    "        return A if A.fitness > B.fitness else B\n",
    "\n",
    "    def _tournamentSelection(self, population, k=2):\n",
    "        community = random.sample(population, k)\n",
    "        localElite = community[0]\n",
    "    \n",
    "        for chromosome in community:\n",
    "            localElite = self._getElite(chromosome, localElite)\n",
    "                \n",
    "        return localElite\n",
    "\n",
    "    def solve(self):\n",
    "\n",
    "        fatherPopulation = self._getPopulation() # First Gen\n",
    "        sonPopulation = []\n",
    "\n",
    "        eliteIndividual = fatherPopulation[0]\n",
    "        actualGeneration = 0\n",
    "\n",
    "        while actualGeneration < self.generations: # OR we haven't found a good solution\n",
    "            \n",
    "            for _ in range(self.populationSize):\n",
    "                G11 = self._tournamentSelection(fatherPopulation)\n",
    "                G12 = self._tournamentSelection(fatherPopulation)\n",
    "\n",
    "                G21 = G11.pointCrossover(G12, self.reproductionProbability)\n",
    "                G21.mutation(self.mutationProbability)\n",
    "\n",
    "                sonPopulation.append(G21)\n",
    "                \n",
    "                eliteIndividual = self._getElite(G21, eliteIndividual)\n",
    "            \n",
    "            fatherPopulation = sonPopulation\n",
    "            sonPopulation = []\n",
    "\n",
    "            actualGeneration += 1\n",
    "        \n",
    "        return eliteIndividual"
   ]
  },
  {
   "cell_type": "code",
   "execution_count": 405,
   "metadata": {},
   "outputs": [],
   "source": [
    "model = GeneticAlgorithm(3, 100, 50, 0.8, 0.5)\n",
    "solution = model.solve()"
   ]
  },
  {
   "cell_type": "code",
   "execution_count": 406,
   "metadata": {},
   "outputs": [
    {
     "data": {
      "image/png": "[encoded data removed]",
      "text/plain": [
       "<Figure size 360x360 with 2 Axes>"
      ]
     },
     "metadata": {
      "needs_background": "light"
     },
     "output_type": "display_data"
    }
   ],
   "source": [
    "solution.plot()"
   ]
  },
  {
   "cell_type": "code",
   "execution_count": 407,
   "metadata": {},
   "outputs": [
    {
     "name": "stdout",
     "output_type": "stream",
     "text": [
      "[[4 1 9 6 3 2 5 8 7]\n",
      " [9 7 3 8 6 1 4 5 2]\n",
      " [3 5 1 2 4 8 7 9 6]\n",
      " [9 2 1 8 5 7 3 4 6]\n",
      " [2 8 7 9 4 6 5 3 1]\n",
      " [2 5 6 7 3 8 4 9 1]\n",
      " [5 8 7 4 6 9 2 3 1]\n",
      " [7 1 2 6 5 3 9 4 8]\n",
      " [8 2 1 7 4 3 5 9 6]\n",
      " [1 9 6 5 8 3 7 4 2]]\n",
      "[[2 3 6 4 7 9 8 1 5]\n",
      " [2 9 5 3 6 1 4 7 8]\n",
      " [7 1 4 5 9 8 6 2 3]\n",
      " [5 7 9 8 6 1 4 3 2]\n",
      " [6 3 9 4 7 2 1 5 8]\n",
      " [2 1 3 7 9 4 5 6 8]\n",
      " [1 7 5 4 8 9 6 2 3]\n",
      " [4 3 9 1 6 8 2 7 5]\n",
      " [4 2 8 3 9 5 6 1 7]\n",
      " [8 2 9 6 1 5 4 7 3]]\n",
      "[[2 3 6 4 7 9 8 1 5]\n",
      " [2 9 5 3 6 1 4 7 8]\n",
      " [7 1 4 5 9 8 6 2 3]\n",
      " [5 7 9 8 6 1 4 3 2]\n",
      " [6 3 9 4 7 2 1 5 8]\n",
      " [2 1 3 7 9 4 5 6 8]\n",
      " [1 7 5 4 8 9 6 2 3]\n",
      " [4 3 9 1 6 8 2 7 5]\n",
      " [4 2 8 3 9 5 6 1 7]\n",
      " [8 2 9 6 1 5 4 7 3]]\n"
     ]
    }
   ],
   "source": [
    "G11 = Sudoku(3)\n",
    "G12 = Sudoku(3)\n",
    "print(G11.rows)\n",
    "print(G12.rows)\n",
    "G21 = G11.pointCrossover(G12, 0.8)\n",
    "print(G21.rows)"
   ]
  }
 ],
 "metadata": {
  "kernelspec": {
   "display_name": "Python 3 (ipykernel)",
   "language": "python",
   "name": "python3"
  },
  "language_info": {
   "codemirror_mode": {
    "name": "ipython",
    "version": 3
   },
   "file_extension": ".py",
   "mimetype": "text/x-python",
   "name": "python",
   "nbconvert_exporter": "python",
   "pygments_lexer": "ipython3",
   "version": "3.9.12"
  },
  "vscode": {
   "interpreter": {
    "hash": "9c80a7e3a2de4dde693dabf38008612d40fcac8e48a425c55413d53e2fda1a28"
   }
  }
 },
 "nbformat": 4,
 "nbformat_minor": 2
}
