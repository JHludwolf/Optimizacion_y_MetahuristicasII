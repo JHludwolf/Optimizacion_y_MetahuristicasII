{
 "cells": [
  {
   "cell_type": "markdown",
   "metadata": {},
   "source": [
    "# The Mery Movie Montage"
   ]
  },
  {
   "cell_type": "markdown",
   "metadata": {
    "cell_id": "4953add1eaed401ba6bf4f4a28219e04",
    "deepnote_cell_type": "text-cell-callout",
    "formattedRanges": [],
    "is_collapsed": false,
    "tags": []
   },
   "source": [
    "> José Luis Lobera del Castillo y Rafael Andrade Ruíz Capetillo"
   ]
  },
  {
   "cell_type": "markdown",
   "metadata": {
    "cell_id": "e6d68c8c-3f15-4d0c-a205-c50e04bd3455",
    "deepnote_cell_type": "text-cell-h2",
    "formattedRanges": [],
    "is_collapsed": false,
    "style": "decimal",
    "tags": []
   },
   "source": [
    "## Genetic Algorithms Approach"
   ]
  },
  {
   "cell_type": "code",
   "execution_count": 16,
   "metadata": {},
   "outputs": [],
   "source": [
    "import numpy as np\n",
    "import pandas as pd\n",
    "\n",
    "from Individual import Individual\n",
    "from Population import Population\n",
    "from Wildcards import Wildcards\n",
    "from WildcardPopulation import WildcardPopulation\n",
    "from GeneticAlgorithm import genetic_algorithm\n",
    "from ObjectiveFunctions import general_objective_func"
   ]
  },
  {
   "cell_type": "markdown",
   "metadata": {},
   "source": [
    " Call the genetic algorithm to evolve solutions, with a population of 20 Individuals, 5000 generations and a crossover size of 7"
   ]
  },
  {
   "cell_type": "code",
   "execution_count": 2,
   "metadata": {},
   "outputs": [
    {
     "name": "stdout",
     "output_type": "stream",
     "text": [
      "GENETIC ALGORITHM | THE MERRY MOVIE MONTAGE \n",
      "Generation: 49/50       Population: 20      Elite: 144          Survivors: 14       Generations Without Survivors: 0\n",
      "ELITE INDIVIDUAL: \n",
      "\tMovies eliminated: 144 [44, 54, 46]\t\n",
      "\n"
     ]
    }
   ],
   "source": [
    "pop_size = 20\n",
    "n_gen = 50\n",
    "crossover_size = 7\n",
    "\n",
    "result = genetic_algorithm(pop_size, n_gen, crossover_size)"
   ]
  },
  {
   "cell_type": "markdown",
   "metadata": {},
   "source": [
    "Transforming the Individual result to a pandas Dataframe"
   ]
  },
  {
   "cell_type": "code",
   "execution_count": 3,
   "metadata": {},
   "outputs": [],
   "source": [
    "phenotype = result.get_phenotype()"
   ]
  },
  {
   "cell_type": "markdown",
   "metadata": {},
   "source": [
    "Initialize the wildcards population with 20 Wildcard Indivuduals"
   ]
  },
  {
   "cell_type": "code",
   "execution_count": 4,
   "metadata": {},
   "outputs": [],
   "source": [
    "pop_size = 10\n",
    "wildcards_pop = WildcardPopulation(pop_size, phenotype=phenotype)"
   ]
  },
  {
   "cell_type": "markdown",
   "metadata": {},
   "source": [
    "Evolve the wildcards population 1000 times"
   ]
  },
  {
   "cell_type": "code",
   "execution_count": 5,
   "metadata": {},
   "outputs": [
    {
     "name": "stdout",
     "output_type": "stream",
     "text": [
      "WILDCARDS GENETIC ALGORITHM | THE MERRY MOVIE MONTAGE \n",
      "Generation: 9/10       Population: 10      Elite: 100163       \n",
      "ELITE INDIVIDUAL: \n",
      "\t[[5833, 4265], [3882, 1245], [1115, 5396]] 100192\n",
      " 100192\n"
     ]
    }
   ],
   "source": [
    "n_gen = 10\n",
    "wildcards = wildcards_pop.evolve(n_gen)"
   ]
  },
  {
   "cell_type": "markdown",
   "metadata": {},
   "source": [
    "Call again the genetic algorithm with a population of 10 individuals, 1000 generations and a crossover size of 3"
   ]
  },
  {
   "cell_type": "code",
   "execution_count": 8,
   "metadata": {},
   "outputs": [
    {
     "name": "stdout",
     "output_type": "stream",
     "text": [
      "GENETIC ALGORITHM | THE MERRY MOVIE MONTAGE \n",
      "Generation: 9/10       Population: 10      Elite: 34           Survivors: 9        Generations Without Survivors: 0\n",
      "ELITE INDIVIDUAL: \n",
      "\tMovies eliminated: 34 [11, 11, 12]\t\n",
      "\n"
     ]
    }
   ],
   "source": [
    "pop_size = 10\n",
    "n_gen = 10\n",
    "crossover_size = 3\n",
    "\n",
    "final_reult = genetic_algorithm(pop_size, n_gen, crossover_size, wildcards=wildcards[0])"
   ]
  },
  {
   "cell_type": "code",
   "execution_count": 11,
   "metadata": {},
   "outputs": [],
   "source": [
    "#final_reult.phenotype_to_csv()"
   ]
  },
  {
   "cell_type": "code",
   "execution_count": 12,
   "metadata": {},
   "outputs": [
    {
     "data": {
      "text/html": [
       "<div>\n",
       "<style scoped>\n",
       "    .dataframe tbody tr th:only-of-type {\n",
       "        vertical-align: middle;\n",
       "    }\n",
       "\n",
       "    .dataframe tbody tr th {\n",
       "        vertical-align: top;\n",
       "    }\n",
       "\n",
       "    .dataframe thead th {\n",
       "        text-align: right;\n",
       "    }\n",
       "</style>\n",
       "<table border=\"1\" class=\"dataframe\">\n",
       "  <thead>\n",
       "    <tr style=\"text-align: right;\">\n",
       "      <th></th>\n",
       "      <th>schedule</th>\n",
       "    </tr>\n",
       "  </thead>\n",
       "  <tbody>\n",
       "    <tr>\n",
       "      <th>0</th>\n",
       "      <td>🎅🤶🧝🎄🎀🎁🦌🎅🤶🧝🎄🎁🎀🦌🤶🎅🧝🎄🎁🎀🦌🤶🧝🎅🎄🎁🎀🦌🤶🧝🎄🎅🎁🎀🦌🤶🧝🎄🎁🎅🎀🦌🤶🧝🎄🎁...</td>\n",
       "    </tr>\n",
       "    <tr>\n",
       "      <th>1</th>\n",
       "      <td>🎅🤶🎄🎁🎀🦌🧝🎅🤶🎄🎀🎁🦌🧝🎅🤶🎀🦌🧝🎄🎁🎅🤶🧝🎄🎁🎀🦌🎅🤶🧝🎄🎀🎁🦌🤶🎅🧝🎄🎀🎁🦌🤶🧝🎅🎄...</td>\n",
       "    </tr>\n",
       "    <tr>\n",
       "      <th>2</th>\n",
       "      <td>🎅🤶🦌🎁🧝🎄🎀🎅🤶🎁🦌🧝🎄🎀🎅🤶🎁🎀🦌🧝🎄🤶🎅🎁🎀🦌🧝🎄🤶🎁🎅🎀🦌🧝🎄🤶🎁🎀🎅🦌🧝🎄🤶🎁🎀🦌...</td>\n",
       "    </tr>\n",
       "  </tbody>\n",
       "</table>\n",
       "</div>"
      ],
      "text/plain": [
       "                                            schedule\n",
       "0  🎅🤶🧝🎄🎀🎁🦌🎅🤶🧝🎄🎁🎀🦌🤶🎅🧝🎄🎁🎀🦌🤶🧝🎅🎄🎁🎀🦌🤶🧝🎄🎅🎁🎀🦌🤶🧝🎄🎁🎅🎀🦌🤶🧝🎄🎁...\n",
       "1  🎅🤶🎄🎁🎀🦌🧝🎅🤶🎄🎀🎁🦌🧝🎅🤶🎀🦌🧝🎄🎁🎅🤶🧝🎄🎁🎀🦌🎅🤶🧝🎄🎀🎁🦌🤶🎅🧝🎄🎀🎁🦌🤶🧝🎅🎄...\n",
       "2  🎅🤶🦌🎁🧝🎄🎀🎅🤶🎁🦌🧝🎄🎀🎅🤶🎁🎀🦌🧝🎄🤶🎅🎁🎀🦌🧝🎄🤶🎁🎅🎀🦌🧝🎄🤶🎁🎀🎅🦌🧝🎄🤶🎁🎀🦌..."
      ]
     },
     "execution_count": 12,
     "metadata": {},
     "output_type": "execute_result"
    }
   ],
   "source": [
    "df_submission = pd.read_csv('./submission.csv')\n",
    "df_submission"
   ]
  },
  {
   "cell_type": "code",
   "execution_count": 21,
   "metadata": {},
   "outputs": [
    {
     "name": "stdout",
     "output_type": "stream",
     "text": [
      "Submission is valid: True\n",
      "Submission wildcards: [(array([ 95, 300]),), (array([116, 523]),), (array([339, 544]),)]\n",
      "Submission lens: [2428, 2428, 2428]\n"
     ]
    }
   ],
   "source": [
    "print(\"Submission is valid:\", general_objective_func(df_submission))\n",
    "print(\"Submission wildcards:\", [np.where(np.array(list(string)) == '🌟') for string in df_submission['schedule']])\n",
    "print(\"Submission lens:\",[len(string) for string in df_submission['schedule']])"
   ]
  },
  {
   "cell_type": "code",
   "execution_count": null,
   "metadata": {},
   "outputs": [],
   "source": []
  }
 ],
 "metadata": {
  "kernelspec": {
   "display_name": "Python 3.8.3 ('base')",
   "language": "python",
   "name": "python3"
  },
  "language_info": {
   "codemirror_mode": {
    "name": "ipython",
    "version": 3
   },
   "file_extension": ".py",
   "mimetype": "text/x-python",
   "name": "python",
   "nbconvert_exporter": "python",
   "pygments_lexer": "ipython3",
   "version": "3.8.3"
  },
  "orig_nbformat": 4,
  "vscode": {
   "interpreter": {
    "hash": "9c80a7e3a2de4dde693dabf38008612d40fcac8e48a425c55413d53e2fda1a28"
   }
  }
 },
 "nbformat": 4,
 "nbformat_minor": 2
}
