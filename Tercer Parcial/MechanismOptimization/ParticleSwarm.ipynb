{
 "cells": [
  {
   "cell_type": "code",
   "execution_count": 96,
   "metadata": {},
   "outputs": [],
   "source": [
    "import numpy as np\n",
    "\n",
    "import random\n",
    "import matplotlib.pyplot as plt"
   ]
  },
  {
   "cell_type": "code",
   "execution_count": 97,
   "metadata": {},
   "outputs": [],
   "source": [
    "def update_velocity(particle, velocity, pbest, gbest, w_min=0.5, max=1.0, c=0.1):\n",
    "    num_particle = len(particle)\n",
    "    new_velocity = np.array([0.0 for i in range(num_particle)])\n",
    "    \n",
    "    r1 = random.uniform(0,max)\n",
    "    r2 = random.uniform(0,max)\n",
    "    w = random.uniform(w_min,max)\n",
    "    c1 = c\n",
    "    c2 = c\n",
    "    \n",
    "    for i in range(num_particle):\n",
    "        new_velocity[i] = w*velocity[i] + c1*r1*(pbest[i]-particle[i])+c2*r2*(gbest[i]-particle[i])\n",
    "\n",
    "    return new_velocity"
   ]
  },
  {
   "cell_type": "code",
   "execution_count": 98,
   "metadata": {},
   "outputs": [],
   "source": [
    "def update_position(particle, velocity):\n",
    "    new_particle = particle + velocity\n",
    "    return new_particle"
   ]
  },
  {
   "cell_type": "code",
   "execution_count": 137,
   "metadata": {},
   "outputs": [],
   "source": [
    "def particle_swarm(population, bounds, generation, fitness_criterion, fitness_function):\n",
    "    dimension = len(bounds)\n",
    "\n",
    "    particles = np.random.uniform(0,1, (population, dimension))\n",
    "\n",
    "    for i, bound in enumerate(bounds):\n",
    "        particles[:,i] *= bound[1]\n",
    "\n",
    "    pbest_position = particles\n",
    "    pbest_fitness = [fitness_function(p) for p in particles]\n",
    "    fitness = np.copy(pbest_fitness)\n",
    "    \n",
    "    gbest_index = np.argmin(pbest_fitness)\n",
    "    gbest_position = pbest_position[gbest_index]\n",
    "    \n",
    "    # Max bound - Min bound / 10\n",
    "    velocity = np.zeros(shape=(population, dimension)) # np.random.normal(0.0, \n",
    "\n",
    "    for t in range(generation):\n",
    "        '''\n",
    "        if np.average(pbest_fitness) <= fitness_criterion:\n",
    "            break\n",
    "        else:\n",
    "        '''\n",
    "        for n in range(population):\n",
    "            velocity[n] = update_velocity(particles[n], velocity[n], pbest_position[n], gbest_position)\n",
    "            particles[n] = update_position(particles[n], velocity[n])\n",
    "\n",
    "            particles[n] %= 4\n",
    "\n",
    "            fitness = fitness_function(particles[n])\n",
    "            if fitness < pbest_fitness[n]:\n",
    "                pbest_position[n] = particles[n]\n",
    "                pbest_fitness[n] = fitness\n",
    "\n",
    "            if fitness < fitness_function(gbest_position):\n",
    "                gbest_position = particles[n]\n",
    "                gbest_index = n\n",
    "\n",
    "    # Print the results\n",
    "    print('Global Best Position: ', gbest_position)\n",
    "    print('Best Fitness Value: ', min(pbest_fitness))\n",
    "    print('Average Particle Best Fitness Value: ', np.average(pbest_fitness))\n",
    "    print('Number of Generation: ', t)\n",
    "    "
   ]
  },
  {
   "cell_type": "code",
   "execution_count": 138,
   "metadata": {},
   "outputs": [],
   "source": [
    "def objective_func(x):\n",
    "    A_ub = [\n",
    "        [1,2],\n",
    "        [3,2]\n",
    "    ]\n",
    "\n",
    "    b_ub = [80, 120]\n",
    "\n",
    "    p, m = x[0], x[1]\n",
    "\n",
    "    #if p + 2*m <= 80 or 3*p + 2*m <= 120: return -1\n",
    "        \n",
    "    return -20000*p - 15000*m"
   ]
  },
  {
   "cell_type": "code",
   "execution_count": 139,
   "metadata": {},
   "outputs": [],
   "source": [
    "def funobj(X):\n",
    "    p,m = X[0],X[1]\n",
    "    return -20000*p + -15000*m\n",
    "def funFeasible(X):\n",
    "    p,m = X[0],X[1]\n",
    "    if p + 2*m > 80: return False\n",
    "    if 3*p + 2*m > 120: return False\n",
    "    if p<0: return False\n",
    "    if m<0: return False\n",
    "    return True\n",
    "bounds = np.array([[0,500],[0,500]])"
   ]
  },
  {
   "cell_type": "code",
   "execution_count": 141,
   "metadata": {},
   "outputs": [
    {
     "name": "stdout",
     "output_type": "stream",
     "text": [
      "Global Best Position:  [39.9356015  39.94265737]\n",
      "Best Fitness Value:  -16226441.988039881\n",
      "Average Particle Best Fitness Value:  -8539959.880469063\n",
      "Number of Generation:  399\n"
     ]
    }
   ],
   "source": [
    "population = 100            # Number of individuals\n",
    "bounds = np.array([\n",
    "    [0, 500],\n",
    "    [0, 500]\n",
    "])\n",
    "generation = 400            # Number of generation\n",
    "fitness_criterion = 10e-4\n",
    "\n",
    "particle_swarm(population, bounds, generation, fitness_criterion, objective_func)"
   ]
  },
  {
   "cell_type": "code",
   "execution_count": null,
   "metadata": {},
   "outputs": [],
   "source": []
  },
  {
   "cell_type": "code",
   "execution_count": null,
   "metadata": {},
   "outputs": [],
   "source": []
  }
 ],
 "metadata": {
  "kernelspec": {
   "display_name": "Python 3.8.3 ('base')",
   "language": "python",
   "name": "python3"
  },
  "language_info": {
   "codemirror_mode": {
    "name": "ipython",
    "version": 3
   },
   "file_extension": ".py",
   "mimetype": "text/x-python",
   "name": "python",
   "nbconvert_exporter": "python",
   "pygments_lexer": "ipython3",
   "version": "3.8.3"
  },
  "orig_nbformat": 4,
  "vscode": {
   "interpreter": {
    "hash": "9c80a7e3a2de4dde693dabf38008612d40fcac8e48a425c55413d53e2fda1a28"
   }
  }
 },
 "nbformat": 4,
 "nbformat_minor": 2
}
