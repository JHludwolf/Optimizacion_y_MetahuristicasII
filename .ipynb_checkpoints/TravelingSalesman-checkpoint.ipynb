{
 "cells": [
  {
   "cell_type": "markdown",
   "metadata": {},
   "source": [
    "# Traveling Salesman Problem"
   ]
  },
  {
   "cell_type": "markdown",
   "metadata": {},
   "source": [
    "José Luis Lobera del Castillo <br>\n",
    "Rafael Andrade Ruíz Capetillo"
   ]
  },
  {
   "cell_type": "code",
   "execution_count": 14,
   "metadata": {},
   "outputs": [],
   "source": [
    "import numpy as np\n",
    "import pandas as pd\n",
    "import matplotlib.pyplot as plt\n",
    "import math \n",
    "import random\n",
    "import copy"
   ]
  },
  {
   "cell_type": "code",
   "execution_count": 2,
   "metadata": {},
   "outputs": [],
   "source": [
    "def read_csv_file(path):\n",
    "    df = pd.read_csv(path, index_col=0)\n",
    "    node_names = df.columns\n",
    "    distance_matrix = df.values\n",
    "    node_position_dict = dict(zip(node_names, list(range(len(node_names)))))\n",
    "\n",
    "    return node_names, distance_matrix, node_position_dict\n"
   ]
  },
  {
   "cell_type": "code",
   "execution_count": 15,
   "metadata": {},
   "outputs": [],
   "source": [
    "def GenerateNodes(n,lim):\n",
    "    array_x= np.random.randint(lim, size=n)\n",
    "    array_y= np.random.randint(lim, size=n)\n",
    "    abecedario=['A','B','C','D','E','F','G','H','I','J','J','K','L','M','N','O','P','Q','R','S','T','U','V','W','X','Y','Z']\n",
    "    array_names=[]\n",
    "\n",
    "    for i in range(0,n):\n",
    "        array_names.append(abecedario[i])\n",
    "\n",
    "    #Para distancia exacta quitar que sea int \n",
    "    dist_matrix=np.zeros((n,n), dtype=int)\n",
    "    for i in range(0,n):\n",
    "        for j in range(0,n):\n",
    "            if i!=j:\n",
    "                dist_matrix[i,j]=math.sqrt((array_y[i]-array_y[j])**2+(array_x[i]-array_x[j])**2)\n",
    "                \n",
    "    #print(dist_matrix)\n",
    "    dNodes={}\n",
    "    for i in range(0,n):\n",
    "        dNodes[array_names[i]]=i\n",
    "    #print(dNodes)\n",
    "    \n",
    "    return array_names,dNodes,array_x,array_y,dist_matrix"
   ]
  },
  {
   "cell_type": "code",
   "execution_count": 4,
   "metadata": {},
   "outputs": [],
   "source": [
    "# Use only with generated nodes\n",
    "\n",
    "def PrintNodes(names,x,y):\n",
    "    fig=plt.figure()\n",
    "    ax=fig.add_axes([0,0,1,1])\n",
    "    ax.scatter(x, y, color='r')\n",
    "\n",
    "    for i in range(0,len(names)):\n",
    "        ax.annotate(names[i], (x[i], y[i]))\n",
    "        \n",
    "    ax.set_xlabel('X')\n",
    "    ax.set_ylabel('Y')\n",
    "    ax.set_title('NODES')\n",
    "    \n",
    "    plt.show()"
   ]
  },
  {
   "cell_type": "code",
   "execution_count": 5,
   "metadata": {},
   "outputs": [],
   "source": [
    "def objectiveFunction(node_names, distance_matrix, individual, node_position_dict):\n",
    "    individual = np.array(individual)\n",
    "\n",
    "    if(individual[0] != individual[-1]): return -1                  # First and Last must be equal\n",
    "    if(len(individual) != len(node_names)+1): return -1             # Shorter individual than expected\n",
    "    if(len(node_names) != len(np.unique(individual))): return -1    # Unique values only\n",
    "    #if(sorted(individual[:-1]) != sorted(node_names)): return -1\n",
    "\n",
    "    distance = 0\n",
    "    for i, node in enumerate(individual):\n",
    "        if(i+1 >= len(individual)): break\n",
    "    \n",
    "        distance += distance_matrix[ node_position_dict[ individual[ i ]], node_position_dict[ individual[ i+1 ] ]]\n",
    "        #print(i, node_position_dict[ individual[ i ]])\n",
    "        #print(i, node_position_dict[ individual[ i+1 ]])\n",
    "    return distance"
   ]
  },
  {
   "cell_type": "code",
   "execution_count": 6,
   "metadata": {},
   "outputs": [],
   "source": [
    "node_names, distance_matrix, node_position_dict = read_csv_file('adjacency_matrix.csv')"
   ]
  },
  {
   "cell_type": "markdown",
   "metadata": {},
   "source": [
    "## Genetic Algorithm"
   ]
  },
  {
   "cell_type": "code",
   "execution_count": 7,
   "metadata": {},
   "outputs": [],
   "source": [
    "# Creates a permutation of all nodes\n",
    "# Returns: List of the path,total distance\n",
    "\n",
    "def GetRandomChromosome():\n",
    "    individual = np.random.permutation(node_names[1:])\n",
    "    individual = np.append(individual, node_names[0])\n",
    "    individual = np.append(np.array([node_names[0]]), individual)\n",
    "    distance = objectiveFunction(node_names, distance_matrix, individual, node_position_dict)\n",
    "    return individual, distance"
   ]
  },
  {
   "cell_type": "code",
   "execution_count": 8,
   "metadata": {},
   "outputs": [],
   "source": [
    "# Creates a population of random chromosomes\n",
    "# Returns: List of Chromosomes\n",
    "\n",
    "def GetPopulation(n = 0):\n",
    "    return [GetRandomChromosome() for _ in range(n)] # O(n)"
   ]
  },
  {
   "cell_type": "markdown",
   "metadata": {},
   "source": [
    "### Roulette Selection"
   ]
  },
  {
   "cell_type": "code",
   "execution_count": 9,
   "metadata": {},
   "outputs": [],
   "source": [
    "# Sums the total weights of chromosomes\n",
    "# Returns a list of proportions\n",
    "\n",
    "def GetProportion(population):\n",
    "    total = 0\n",
    "    for chromosome in population:\n",
    "        total += 1/chromosome[1]\n",
    "    \n",
    "    proportion = []\n",
    "    for chromosome in population:\n",
    "        proportion.append((1/chromosome[1])/total)\n",
    "\n",
    "    return proportion"
   ]
  },
  {
   "cell_type": "code",
   "execution_count": 10,
   "metadata": {},
   "outputs": [],
   "source": [
    "def RouletteSelection(proportions):\n",
    "    selection = random.random()\n",
    "\n",
    "    acum = 0\n",
    "\n",
    "    for i, prop  in enumerate(proportions):\n",
    "        acum += prop\n",
    "        if selection < acum:\n",
    "            return i\n"
   ]
  },
  {
   "cell_type": "markdown",
   "metadata": {},
   "source": [
    "##### Roulette Selected Chromosome"
   ]
  },
  {
   "cell_type": "code",
   "execution_count": 11,
   "metadata": {},
   "outputs": [
    {
     "name": "stdout",
     "output_type": "stream",
     "text": [
      "(array(['A', 'E', 'C', 'D', 'B', 'J', 'G', 'H', 'F', 'I', 'A'],\n",
      "      dtype=object), 506)\n"
     ]
    }
   ],
   "source": [
    "population = GetPopulation(10)\n",
    "\n",
    "proportion = GetProportion(population)\n",
    "\n",
    "# The way of getting a Roulette Selected Chromosome\n",
    "selected = population[RouletteSelection(proportion)]\n",
    "print(selected)"
   ]
  },
  {
   "cell_type": "markdown",
   "metadata": {},
   "source": [
    "### Tournament Selection"
   ]
  },
  {
   "cell_type": "code",
   "execution_count": 12,
   "metadata": {},
   "outputs": [],
   "source": [
    "def TournamentSelection(population, k=2):\n",
    "    community = random.sample(population, k)\n",
    "    localElite = population[0]\n",
    "    \n",
    "    for chromosome in community:\n",
    "        if chromosome[1] < localElite[1]:\n",
    "            localElite = chromosome\n",
    "            \n",
    "    return localElite"
   ]
  },
  {
   "cell_type": "markdown",
   "metadata": {},
   "source": [
    "##### Tournament Selected Chromosome"
   ]
  },
  {
   "cell_type": "code",
   "execution_count": 13,
   "metadata": {},
   "outputs": [
    {
     "data": {
      "text/plain": [
       "(array(['A', 'C', 'J', 'F', 'I', 'G', 'E', 'H', 'B', 'D', 'A'],\n",
       "       dtype=object),\n",
       " 473)"
      ]
     },
     "execution_count": 13,
     "metadata": {},
     "output_type": "execute_result"
    }
   ],
   "source": [
    "population = GetPopulation(10)\n",
    "\n",
    "TournamentSelection(population, 5)"
   ]
  },
  {
   "cell_type": "code",
   "execution_count": 16,
   "metadata": {},
   "outputs": [],
   "source": [
    "def pointCrossover(A,B,rp,n,node_names,distance_matrix,node_position_dict):\n",
    "    aux=random.random()\n",
    "    if aux<=rp:\n",
    "        crosspoint=random.randint(0,n)\n",
    "        offspring=copy.deepcopy(A[0][:crosspoint])\n",
    "        offsprig=np.append(offspring,copy.deepcopy(B[0][crosspoint:]))\n",
    "        dist=objectiveFunction(node_names, distance_matrix, offspring, node_position_dict)\n",
    "        return offspring,dist\n",
    "        \n",
    "    else:\n",
    "        return copy.deepcopy(A)\n",
    "        \n",
    "    "
   ]
  },
  {
   "cell_type": "code",
   "execution_count": 17,
   "metadata": {},
   "outputs": [],
   "source": [
    "def swapMutation(A,rp,n,node_names,distance_matrix,node_position_dict):\n",
    "    elementA=random.randint(0,n)\n",
    "    elementB=random.randint(0,n)\n",
    "    aux=A[0][elementA]\n",
    "    A[0][elementA]=A[0][elementB]\n",
    "    A[0][elementB]=aux\n",
    "    A[1]=objectiveFunction(node_names, distance_matrix, A[0], node_position_dict)\n",
    "    "
   ]
  },
  {
   "cell_type": "code",
   "execution_count": null,
   "metadata": {},
   "outputs": [],
   "source": []
  }
 ],
 "metadata": {
  "kernelspec": {
   "display_name": "Python 3 (ipykernel)",
   "language": "python",
   "name": "python3"
  },
  "language_info": {
   "codemirror_mode": {
    "name": "ipython",
    "version": 3
   },
   "file_extension": ".py",
   "mimetype": "text/x-python",
   "name": "python",
   "nbconvert_exporter": "python",
   "pygments_lexer": "ipython3",
   "version": "3.9.12"
  },
  "vscode": {
   "interpreter": {
    "hash": "9c80a7e3a2de4dde693dabf38008612d40fcac8e48a425c55413d53e2fda1a28"
   }
  }
 },
 "nbformat": 4,
 "nbformat_minor": 2
}
