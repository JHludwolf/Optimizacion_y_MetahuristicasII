{
 "cells": [
  {
   "cell_type": "code",
   "execution_count": 332,
   "metadata": {},
   "outputs": [],
   "source": [
    "import numpy as np\n",
    "import random\n",
    "import matplotlib.pyplot as plt"
   ]
  },
  {
   "cell_type": "markdown",
   "metadata": {},
   "source": [
    "# Particle Swarm Optimization\n",
    "José Luis Lobera del Castillo y Rafael Andrade Ruíz Capetillo"
   ]
  },
  {
   "cell_type": "markdown",
   "metadata": {},
   "source": [
    "#### Particle Swarm Algorithm Implementation"
   ]
  },
  {
   "cell_type": "code",
   "execution_count": 346,
   "metadata": {},
   "outputs": [],
   "source": [
    "def update_velocity(particle, velocity, pbest, gbest, w_min=0.5, max=1.0, c=0.1):\n",
    "    particle_size = len(particle)\n",
    "    new_velocity = np.zeros((particle_size))\n",
    "    \n",
    "    r1 = random.uniform(0,max)\n",
    "    r2 = random.uniform(0,max)\n",
    "    w = random.uniform(w_min,max)\n",
    "    c1 = c\n",
    "    c2 = c\n",
    "    \n",
    "    for i in range(particle_size):\n",
    "        new_velocity[i] = w*velocity[i] + c1*r1*(pbest[i]-particle[i]) + c2*r2*(gbest[i]-particle[i])\n",
    "\n",
    "    return new_velocity"
   ]
  },
  {
   "cell_type": "code",
   "execution_count": 347,
   "metadata": {},
   "outputs": [],
   "source": [
    "def update_position(particle, velocity):\n",
    "    new_particle = particle + velocity\n",
    "    return new_particle"
   ]
  },
  {
   "cell_type": "code",
   "execution_count": 335,
   "metadata": {},
   "outputs": [],
   "source": [
    "def particle_swarm(population, bounds, generation, fitness_function, funFeasible):\n",
    "    dimension = len(bounds)\n",
    "\n",
    "    particles = np.random.uniform(bounds[:,0], bounds[:,1], (population, dimension))\n",
    "\n",
    "    pbest_position = particles\n",
    "    pbest_fitness = [fitness_function(p) for p in particles]\n",
    "    fitness = np.copy(pbest_fitness)\n",
    "    \n",
    "    gbest_index = np.argmin(pbest_fitness)\n",
    "    gbest_position = pbest_position[gbest_index]\n",
    "    \n",
    "    velocity = np.zeros(shape=(population, dimension))\n",
    "\n",
    "    for t in range(generation):\n",
    "        for n in range(population):\n",
    "            velocity[n] = update_velocity(particles[n], velocity[n], pbest_position[n], gbest_position)\n",
    "            particles[n] = update_position(particles[n], velocity[n])\n",
    "\n",
    "            while not funFeasible(particles[n]):\n",
    "                particles[n] = np.random.uniform(bounds[:,0], bounds[:,1], (dimension))\n",
    "\n",
    "            fitness = fitness_function(particles[n])\n",
    "            if fitness < pbest_fitness[n]:\n",
    "                pbest_position[n] = particles[n]\n",
    "                pbest_fitness[n] = fitness\n",
    "\n",
    "            if fitness < fitness_function(gbest_position):\n",
    "                gbest_position = particles[n]\n",
    "                gbest_index = n\n",
    "\n",
    "    print('Global Best Position: ', gbest_position)\n",
    "    \n",
    "    return gbest_position\n",
    "    "
   ]
  },
  {
   "cell_type": "markdown",
   "metadata": {},
   "source": [
    "## 1. Bike Problem"
   ]
  },
  {
   "cell_type": "code",
   "execution_count": 364,
   "metadata": {},
   "outputs": [],
   "source": [
    "def objective_func(x):\n",
    "    p,m = x[0], x[1]\n",
    "    return -20000*p + -15000*m\n",
    "\n",
    "def funFeasible(X):\n",
    "    p,m = X[0],X[1]\n",
    "    if p + 2*m > 80: return False\n",
    "    if 3*p + 2*m > 120: return False\n",
    "    if p<0: return False\n",
    "    if m<0: return False\n",
    "    return True"
   ]
  },
  {
   "cell_type": "code",
   "execution_count": 367,
   "metadata": {},
   "outputs": [
    {
     "name": "stdout",
     "output_type": "stream",
     "text": [
      "Global Best Position:  [20.10038582 29.8303489 ]\n"
     ]
    },
    {
     "data": {
      "image/png": "[encoded data removed]",
      "text/plain": [
       "<Figure size 432x288 with 1 Axes>"
      ]
     },
     "metadata": {
      "needs_background": "light"
     },
     "output_type": "display_data"
    }
   ],
   "source": [
    "elite = particle_swarm(\n",
    "    population = 100,\n",
    "    bounds = np.array([\n",
    "                [0, 40],\n",
    "                [0, 40]\n",
    "            ]),\n",
    "    generation = 400,\n",
    "    fitness_function = objective_func,\n",
    "    funFeasible = funFeasible\n",
    ")\n",
    "\n",
    "x1 = np.linspace(0,50,100)\n",
    "y1 = 40 - 0.5*x1\n",
    "\n",
    "x2 = np.linspace(0,50,100)\n",
    "y2 = 60 - (3/2)*x2\n",
    "\n",
    "plt.figure()\n",
    "plt.plot(x1, y1)\n",
    "plt.fill_between(x1, y1, 0, alpha=0.5)\n",
    "plt.plot(x2, y2)\n",
    "plt.fill_between(x2, y2, 0, alpha=0.5)\n",
    "plt.plot(elite[0], elite[1], marker=\"*\", markersize=20, markeredgecolor=\"black\", markerfacecolor=\"#FFD700\")\n",
    "plt.xlim(0,50)\n",
    "plt.ylim(0,60)\n",
    "plt.show()"
   ]
  },
  {
   "cell_type": "markdown",
   "metadata": {},
   "source": [
    "## 2. Lamps"
   ]
  },
  {
   "cell_type": "code",
   "execution_count": 353,
   "metadata": {},
   "outputs": [],
   "source": [
    "def objective_func(x):\n",
    "    p,m = x[0], x[1]\n",
    "    return -15*p + -10*m\n",
    "\n",
    "def funFeasible(X):\n",
    "    p,m = X[0],X[1]\n",
    "    if (1/3)*p + (1/2)*m > 100: return False\n",
    "    if (1/6)*p + (1/6)*m > 80: return False\n",
    "    if p<0: return False\n",
    "    if m<0: return False\n",
    "    return True"
   ]
  },
  {
   "cell_type": "code",
   "execution_count": 354,
   "metadata": {},
   "outputs": [
    {
     "name": "stdout",
     "output_type": "stream",
     "text": [
      "Global Best Position:  [2.99388049e+02 2.01791513e-01]\n"
     ]
    },
    {
     "data": {
      "image/png": "[encoded data removed]",
      "text/plain": [
       "<Figure size 432x288 with 1 Axes>"
      ]
     },
     "metadata": {
      "needs_background": "light"
     },
     "output_type": "display_data"
    }
   ],
   "source": [
    "elite = particle_swarm(\n",
    "    population = 100,\n",
    "    bounds = np.array([\n",
    "                [0, 400],\n",
    "                [0, 400]\n",
    "            ]),\n",
    "    generation = 400,\n",
    "    fitness_function = objective_func,\n",
    "    funFeasible = funFeasible\n",
    ")\n",
    "\n",
    "x1 = np.linspace(0,500,100)\n",
    "y1 = (100 - (1/3)*x1)*2\n",
    "\n",
    "x2 = np.linspace(0,500,100)\n",
    "y2 = (80 - (1/6)*x2)*6\n",
    "\n",
    "plt.figure()\n",
    "plt.plot(x1, y1)\n",
    "plt.fill_between(x1, y1, 0, alpha=0.5)\n",
    "plt.plot(x2, y2)\n",
    "plt.fill_between(x2, y2, 0, alpha=0.5)\n",
    "plt.plot(elite[0], elite[1], marker=\"*\", markersize=20, markeredgecolor=\"black\", markerfacecolor=\"#FFD700\")\n",
    "plt.xlim(0,500)\n",
    "plt.ylim(0,500)\n",
    "\n",
    "plt.show()"
   ]
  },
  {
   "cell_type": "markdown",
   "metadata": {},
   "source": [
    "## 3. Poyoyon"
   ]
  },
  {
   "cell_type": "code",
   "execution_count": 355,
   "metadata": {},
   "outputs": [],
   "source": [
    "def objective_func(x):\n",
    "    p,m = x[0], x[1]\n",
    "    return 10*p + 30*m\n",
    "\n",
    "def funFeasible(X):\n",
    "    p,m = X[0],X[1]\n",
    "    if (1)*p + (5)*m < 15: return False\n",
    "    if (5)*p + (1)*m < 15: return False\n",
    "    if p<0: return False\n",
    "    if m<0: return False\n",
    "    return True"
   ]
  },
  {
   "cell_type": "code",
   "execution_count": 356,
   "metadata": {},
   "outputs": [
    {
     "name": "stdout",
     "output_type": "stream",
     "text": [
      "Global Best Position:  [2.507101   2.49898644]\n"
     ]
    },
    {
     "data": {
      "image/png": "[encoded data removed]",
      "text/plain": [
       "<Figure size 432x288 with 1 Axes>"
      ]
     },
     "metadata": {
      "needs_background": "light"
     },
     "output_type": "display_data"
    }
   ],
   "source": [
    "elite = particle_swarm(\n",
    "    population = 100,\n",
    "    bounds = np.array([\n",
    "                [0, 5],\n",
    "                [0, 5]\n",
    "            ]),\n",
    "    generation = 400,\n",
    "    fitness_function = objective_func,\n",
    "    funFeasible = funFeasible\n",
    ")\n",
    "\n",
    "x1 = np.linspace(0,10,100)\n",
    "y1 = (15 - 1*x1)*(1/5)\n",
    "\n",
    "x2 = np.linspace(0,10,100)\n",
    "y2 = (15 - 5*x2)*(1)\n",
    "\n",
    "plt.figure()\n",
    "plt.plot(x1, y1)\n",
    "plt.fill_between(x1, y1, 100, alpha=0.5)\n",
    "plt.plot(x2, y2)\n",
    "plt.fill_between(x2, y2, 100, alpha=0.5)\n",
    "plt.plot(elite[0], elite[1], marker=\"*\", markersize=20, markeredgecolor=\"black\", markerfacecolor=\"#FFD700\")\n",
    "plt.xlim(0,10)\n",
    "plt.ylim(0,10)\n",
    "\n",
    "plt.show()"
   ]
  },
  {
   "cell_type": "markdown",
   "metadata": {},
   "source": [
    "## 4.  Útiles"
   ]
  },
  {
   "cell_type": "code",
   "execution_count": 357,
   "metadata": {},
   "outputs": [],
   "source": [
    "def objective_func(x):\n",
    "    p,m = x[0], x[1]\n",
    "    return -6.5*p + -7*m\n",
    "\n",
    "def funFeasible(X):\n",
    "    p,m = X[0],X[1]\n",
    "    if (2)*p + (3)*m > 600: return False\n",
    "    if (1)*p + (1)*m > 500: return False\n",
    "    if (2)*p + (1)*m > 400: return False\n",
    "    if p<0: return False\n",
    "    if m<0: return False\n",
    "    return True"
   ]
  },
  {
   "cell_type": "code",
   "execution_count": 358,
   "metadata": {},
   "outputs": [
    {
     "name": "stdout",
     "output_type": "stream",
     "text": [
      "Global Best Position:  [150.06347915  99.87262708]\n"
     ]
    },
    {
     "data": {
      "image/png": "[encoded data removed]",
      "text/plain": [
       "<Figure size 432x288 with 1 Axes>"
      ]
     },
     "metadata": {
      "needs_background": "light"
     },
     "output_type": "display_data"
    }
   ],
   "source": [
    "elite = particle_swarm(\n",
    "    population = 100,\n",
    "    bounds = np.array([\n",
    "                [0, 500],\n",
    "                [0, 500]\n",
    "            ]),\n",
    "    generation = 400,\n",
    "    fitness_function = objective_func,\n",
    "    funFeasible = funFeasible\n",
    ")\n",
    "\n",
    "x1 = np.linspace(0,500,100)\n",
    "y1 = (600 - 2*x1)*(1/3)\n",
    "\n",
    "x2 = np.linspace(0,500,100)\n",
    "y2 = (500 - x2)\n",
    "\n",
    "x3 = np.linspace(0,500,100)\n",
    "y3 = (400 - 2*x3)\n",
    "\n",
    "plt.figure()\n",
    "plt.plot(x1, y1)\n",
    "plt.fill_between(x1, y1, 0, alpha=0.2)\n",
    "plt.plot(x2, y2)\n",
    "plt.fill_between(x2, y2, 0, alpha=0.2)\n",
    "plt.plot(x3, y3)\n",
    "plt.fill_between(x3, y3, 0, alpha=0.2)\n",
    "plt.plot(elite[0], elite[1], marker=\"*\", markersize=20, markeredgecolor=\"black\", markerfacecolor=\"#FFD700\")\n",
    "plt.xlim(0,500)\n",
    "plt.ylim(0,500)\n",
    "\n",
    "plt.show()"
   ]
  },
  {
   "cell_type": "markdown",
   "metadata": {},
   "source": [
    "## 5. Excursión"
   ]
  },
  {
   "cell_type": "code",
   "execution_count": 359,
   "metadata": {},
   "outputs": [],
   "source": [
    "def objective_func(x):\n",
    "    p,m = x[0], x[1]\n",
    "    return 600*p + 800*m\n",
    "\n",
    "def funFeasible(X):\n",
    "    p,m = X[0],X[1]\n",
    "    if (-40)*p + (-50)*m > -400: return False\n",
    "    if (1)*p + (1)*m > 9: return False\n",
    "    if p<0: return False\n",
    "    if m<0: return False\n",
    "    return True"
   ]
  },
  {
   "cell_type": "code",
   "execution_count": 360,
   "metadata": {},
   "outputs": [
    {
     "name": "stdout",
     "output_type": "stream",
     "text": [
      "Global Best Position:  [4.99909179 4.00080781]\n"
     ]
    },
    {
     "data": {
      "image/png": "[encoded data removed]",
      "text/plain": [
       "<Figure size 432x288 with 1 Axes>"
      ]
     },
     "metadata": {
      "needs_background": "light"
     },
     "output_type": "display_data"
    }
   ],
   "source": [
    "elite = particle_swarm(\n",
    "    population = 100,\n",
    "    bounds = np.array([\n",
    "                [0, 8],\n",
    "                [0, 10]\n",
    "            ]),\n",
    "    generation = 400,\n",
    "    fitness_function = objective_func,\n",
    "    funFeasible = funFeasible   \n",
    ")\n",
    "\n",
    "x1 = np.linspace(0,15,100)\n",
    "y1 = (400 - 40*x1)*(1/50)\n",
    "\n",
    "x2 = np.linspace(0,15,100)\n",
    "y2 = (9 - x2)\n",
    "\n",
    "plt.figure()\n",
    "plt.plot(x1, y1)\n",
    "plt.fill_between(x1, y1, 0, alpha=0.5)\n",
    "plt.plot(x2, y2)\n",
    "plt.fill_between(x2, y2, 0, alpha=0.5)\n",
    "plt.plot(elite[0], elite[1], marker=\"*\", markersize=20, markeredgecolor=\"black\", markerfacecolor=\"#FFD700\")\n",
    "plt.xlim(0,12)\n",
    "plt.ylim(0,12)\n",
    "\n",
    "plt.show()"
   ]
  }
 ],
 "metadata": {
  "kernelspec": {
   "display_name": "Python 3.8.3 ('base')",
   "language": "python",
   "name": "python3"
  },
  "language_info": {
   "codemirror_mode": {
    "name": "ipython",
    "version": 3
   },
   "file_extension": ".py",
   "mimetype": "text/x-python",
   "name": "python",
   "nbconvert_exporter": "python",
   "pygments_lexer": "ipython3",
   "version": "3.8.3"
  },
  "orig_nbformat": 4,
  "vscode": {
   "interpreter": {
    "hash": "9c80a7e3a2de4dde693dabf38008612d40fcac8e48a425c55413d53e2fda1a28"
   }
  }
 },
 "nbformat": 4,
 "nbformat_minor": 2
}
