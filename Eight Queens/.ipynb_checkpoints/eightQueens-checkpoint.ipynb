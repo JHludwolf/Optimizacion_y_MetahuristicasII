{
 "cells": [
  {
   "cell_type": "code",
   "execution_count": 1,
   "metadata": {},
   "outputs": [],
   "source": [
    "import numpy as np\n",
    "import pandas as pd\n",
    "import matplotlib.pyplot as plt\n",
    "import math \n",
    "import random\n",
    "import copy"
   ]
  },
  {
   "cell_type": "code",
   "execution_count": 2,
   "metadata": {},
   "outputs": [],
   "source": [
    "def plot_solution(solution):\n",
    "    fig = plt.figure(figsize=(5,5))\n",
    "    ax = fig.add_subplot(111)\n",
    "    ax.set_xlim((0, 8))\n",
    "    ax.set_ylim((0, 8))\n",
    "\n",
    "    count = 0\n",
    "    for queen in solution:\n",
    "        ax.add_patch(plt.Rectangle((count, queen), 1, 1))\n",
    "        count += 1\n",
    "    plt.grid(True)\n",
    "    plt.show(fig)"
   ]
  },
  {
   "cell_type": "code",
   "execution_count": 3,
   "metadata": {},
   "outputs": [],
   "source": [
    "def getWeakpoints(x, y, N):\n",
    "\n",
    "    weakpoints = []\n",
    "    \n",
    "    weakpoints += list(zip(range(0, x), [y]*x))                         # Left\n",
    "    weakpoints += list(zip(range(x+1, N), [y]*(N-x)))                   # Right\n",
    "    weakpoints += list(zip([x]*y, range(0, y)))                         # Down\n",
    "    weakpoints += list(zip([x]*(N-y), range(y+1, N)))                   # Up\n",
    "\n",
    "    \n",
    "    weakpoints += list(zip(range(x-1, -1, -1), range(y-1, -1, -1)))     # Down Left\n",
    "    weakpoints += list(zip(range(x+1, N), range(y+1, N)))               # Up Right\n",
    "    weakpoints += list(zip(range(x-1, -1, -1), range(y+1, N)))          # Down Right\n",
    "    weakpoints += list(zip(range(x+1, N), range(y-1, -1, -1)))          # Up Left\n",
    "\n",
    "    return weakpoints"
   ]
  },
  {
   "cell_type": "code",
   "execution_count": 4,
   "metadata": {},
   "outputs": [],
   "source": [
    "def isSafe(board, row, col, N=8):\n",
    "    queens = list(zip(range(N), board))\n",
    "    weakpoints = getWeakpoints(row, col, N)\n",
    "    \n",
    "    for queen in queens:\n",
    "        if queen in weakpoints:\n",
    "            return False\n",
    "  \n",
    "    return True"
   ]
  },
  {
   "cell_type": "code",
   "execution_count": 5,
   "metadata": {},
   "outputs": [],
   "source": [
    "def timesHitted(board, row, col, N=8):\n",
    "    queens = list(zip(range(N), board))\n",
    "\n",
    "    miniScore = 0\n",
    "    weakpoints = getWeakpoints(row, col, N)\n",
    "    for queen in queens:\n",
    "        if queen in weakpoints:\n",
    "            miniScore += 1\n",
    "  \n",
    "    return miniScore"
   ]
  },
  {
   "cell_type": "code",
   "execution_count": 6,
   "metadata": {},
   "outputs": [],
   "source": [
    "def objectiveFunction(solution):\n",
    "    scoreSum = 0\n",
    "    for i, queen in enumerate(solution):\n",
    "        #scoreSum += timesHitted(solution, i, queen)\n",
    "        if isSafe(solution, i, queen):\n",
    "            #print(\"Safe:\", i, queen)\n",
    "            scoreSum += 1\n",
    "    return scoreSum"
   ]
  },
  {
   "cell_type": "code",
   "execution_count": 7,
   "metadata": {},
   "outputs": [],
   "source": [
    "def GetRandomChromosome(n):\n",
    "    chromosome = np.random.permutation(np.arange(n))\n",
    "    score = objectiveFunction(chromosome)\n",
    "    return [chromosome, score]"
   ]
  },
  {
   "cell_type": "code",
   "execution_count": 8,
   "metadata": {},
   "outputs": [],
   "source": [
    "def getPopulation(n = 1):\n",
    "    return [GetRandomChromosome(8) for _ in range(n)] # O(n)"
   ]
  },
  {
   "cell_type": "code",
   "execution_count": 9,
   "metadata": {},
   "outputs": [
    {
     "name": "stdout",
     "output_type": "stream",
     "text": [
      "Score 1\n",
      "[6 7 5 1 0 4 3 2]\n"
     ]
    },
    {
     "data": {
      "image/png": "[encoded data removed]",
      "text/plain": [
       "<Figure size 360x360 with 1 Axes>"
      ]
     },
     "metadata": {
      "needs_background": "light"
     },
     "output_type": "display_data"
    }
   ],
   "source": [
    "x = GetRandomChromosome(8)\n",
    "print(\"Score\", x[1])\n",
    "print(x[0])\n",
    "plot_solution(x[0])"
   ]
  },
  {
   "cell_type": "code",
   "execution_count": 10,
   "metadata": {},
   "outputs": [],
   "source": [
    "def TournamentSelection(population, k=2):\n",
    "    community = random.sample(population, k)\n",
    "    localElite = community[0]\n",
    "    \n",
    "    for chromosome in community:\n",
    "        if chromosome[1] >= localElite[1]:\n",
    "            localElite = chromosome\n",
    "            \n",
    "    return localElite"
   ]
  },
  {
   "cell_type": "code",
   "execution_count": 11,
   "metadata": {},
   "outputs": [],
   "source": [
    "def getElite(A, B):\n",
    "    if A is None: return B\n",
    "    if B is None: return A\n",
    "    \n",
    "    if A[1] >= B[1]:\n",
    "        return A\n",
    "    else:\n",
    "        return B"
   ]
  },
  {
   "cell_type": "code",
   "execution_count": 12,
   "metadata": {},
   "outputs": [],
   "source": [
    "def pointCrossover(A, B, reproductionProbability, N):\n",
    "\n",
    "    if random.random() <= reproductionProbability:\n",
    "        \n",
    "        crosspoint = random.randint(0, N-1)\n",
    "        C = np.concatenate((A[0][:crosspoint], B[0][crosspoint:]), axis=0)\n",
    "        score = objectiveFunction(C)\n",
    "        return [C, score]\n",
    "        \n",
    "    else:\n",
    "        return copy.deepcopy(A)"
   ]
  },
  {
   "cell_type": "code",
   "execution_count": 13,
   "metadata": {},
   "outputs": [],
   "source": [
    "def mutation(C, mutationProbability, N):\n",
    "    if random.random() <= mutationProbability:\n",
    "        mutatedGeneIdx = random.randint(0, N-1)\n",
    "        C[0][mutatedGeneIdx] = random.randint(0, N-1)\n",
    "        C[1] = objectiveFunction(C[0])"
   ]
  },
  {
   "cell_type": "code",
   "execution_count": 14,
   "metadata": {},
   "outputs": [
    {
     "name": "stdout",
     "output_type": "stream",
     "text": [
      "[array([5, 6, 0, 2, 4, 7, 3, 1]), 3]\n",
      "[array([3, 2, 7, 1, 4, 0, 6, 5]), 2]\n",
      "[array([5, 6, 0, 2, 4, 7, 6, 5]), 0]\n",
      "[array([5, 7, 0, 2, 4, 7, 6, 5]), 0]\n"
     ]
    }
   ],
   "source": [
    "population = getPopulation(100)\n",
    "A = TournamentSelection(population)\n",
    "B = TournamentSelection(population)\n",
    "print(A)\n",
    "print(B)\n",
    "\n",
    "C = pointCrossover(A, B, 0.8, 8)\n",
    "print(C)\n",
    "\n",
    "mutation(C, 1, 8)\n",
    "print(C)\n",
    "\n"
   ]
  },
  {
   "cell_type": "code",
   "execution_count": 15,
   "metadata": {},
   "outputs": [],
   "source": [
    "def geneticAlgorithm(noQueens, populationSize, generations, reproductionProbability, mutationProbability):\n",
    "    eliteIndividual = None\n",
    "\n",
    "    fatherPopulation = getPopulation(populationSize) # First Gen\n",
    "    sonPopulation = []\n",
    "\n",
    "    actualGeneration = 0\n",
    "\n",
    "    while actualGeneration < generations: # OR we haven't found a good solution\n",
    "        \n",
    "        for _ in range(populationSize):\n",
    "            G11 = TournamentSelection(fatherPopulation)\n",
    "            G12 = TournamentSelection(fatherPopulation)\n",
    "\n",
    "            G21 = pointCrossover(G11, G12, reproductionProbability, noQueens)\n",
    "            mutation(G21, mutationProbability, noQueens)\n",
    "\n",
    "            sonPopulation.append(G21)\n",
    "            \n",
    "            eliteIndividual = getElite(G21, eliteIndividual)\n",
    "        \n",
    "        fatherPopulation = sonPopulation\n",
    "        sonPopulation = []\n",
    "\n",
    "        actualGeneration += 1\n",
    "    \n",
    "    return eliteIndividual"
   ]
  },
  {
   "cell_type": "code",
   "execution_count": 16,
   "metadata": {},
   "outputs": [],
   "source": [
    "noQueens = 8\n",
    "populationSize = 50\n",
    "generations = 100\n",
    "reproductionProbability = 0.1\n",
    "mutationProbability = 0.1\n",
    "\n",
    "result = geneticAlgorithm(noQueens, populationSize, generations, reproductionProbability, mutationProbability)"
   ]
  },
  {
   "cell_type": "code",
   "execution_count": 17,
   "metadata": {},
   "outputs": [
    {
     "name": "stdout",
     "output_type": "stream",
     "text": [
      "Score:  6 Queens\n"
     ]
    },
    {
     "data": {
      "image/png": "[encoded data removed]",
      "text/plain": [
       "<Figure size 360x360 with 1 Axes>"
      ]
     },
     "metadata": {
      "needs_background": "light"
     },
     "output_type": "display_data"
    }
   ],
   "source": [
    "print('Score: ', result[1], 'Queens')\n",
    "plot_solution(result[0])"
   ]
  },
  {
   "cell_type": "code",
   "execution_count": 18,
   "metadata": {},
   "outputs": [],
   "source": [
    "noQueens = 8\n",
    "populationSize = 100\n",
    "generations = 100\n",
    "reproductionProbability = 0.8\n",
    "mutationProbability = 0.2\n",
    "\n",
    "result = geneticAlgorithm(noQueens, populationSize, generations, reproductionProbability, mutationProbability)"
   ]
  },
  {
   "cell_type": "code",
   "execution_count": 19,
   "metadata": {},
   "outputs": [
    {
     "name": "stdout",
     "output_type": "stream",
     "text": [
      "Score:  6 Queens\n"
     ]
    },
    {
     "data": {
      "image/png": "[encoded data removed]",
      "text/plain": [
       "<Figure size 360x360 with 1 Axes>"
      ]
     },
     "metadata": {
      "needs_background": "light"
     },
     "output_type": "display_data"
    }
   ],
   "source": [
    "print('Score: ', result[1], 'Queens')\n",
    "plot_solution(result[0])"
   ]
  },
  {
   "cell_type": "code",
   "execution_count": null,
   "metadata": {},
   "outputs": [],
   "source": []
  }
 ],
 "metadata": {
  "kernelspec": {
   "display_name": "Python 3 (ipykernel)",
   "language": "python",
   "name": "python3"
  },
  "language_info": {
   "codemirror_mode": {
    "name": "ipython",
    "version": 3
   },
   "file_extension": ".py",
   "mimetype": "text/x-python",
   "name": "python",
   "nbconvert_exporter": "python",
   "pygments_lexer": "ipython3",
   "version": "3.9.12"
  },
  "vscode": {
   "interpreter": {
    "hash": "9c80a7e3a2de4dde693dabf38008612d40fcac8e48a425c55413d53e2fda1a28"
   }
  }
 },
 "nbformat": 4,
 "nbformat_minor": 2
}
