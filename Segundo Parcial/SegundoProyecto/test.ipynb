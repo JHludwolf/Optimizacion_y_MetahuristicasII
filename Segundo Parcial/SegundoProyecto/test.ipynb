{
 "cells": [
  {
   "cell_type": "code",
   "execution_count": 10,
   "metadata": {},
   "outputs": [],
   "source": [
    "import os\n",
    "import cv2\n",
    "import numpy as np\n",
    "import matplotlib.pyplot as plt\n",
    "\n",
    "from skimage.metrics import structural_similarity as ss"
   ]
  },
  {
   "cell_type": "markdown",
   "metadata": {},
   "source": [
    "# Approximating Images with circles using Differential Evolution Algorithms"
   ]
  },
  {
   "cell_type": "markdown",
   "metadata": {},
   "source": [
    "#### Helper functions"
   ]
  },
  {
   "cell_type": "code",
   "execution_count": 3,
   "metadata": {},
   "outputs": [],
   "source": [
    "def load_image(image_path, size=None):\n",
    "    target = cv2.imread(image_path, cv2.IMREAD_COLOR)\n",
    "    target = cv2.cvtColor(target, cv2.COLOR_BGR2RGB)\n",
    "\n",
    "    if size:\n",
    "        target = cv2.resize(src=target, dsize=size, interpolation=cv2.INTER_AREA)\n",
    "    return target"
   ]
  },
  {
   "cell_type": "code",
   "execution_count": 4,
   "metadata": {},
   "outputs": [],
   "source": [
    "def show_image(img_arr):\n",
    "    plt.figure()\n",
    "    plt.axis(\"off\")\n",
    "    plt.imshow(img_arr / 255)\n",
    "    plt.show()"
   ]
  },
  {
   "cell_type": "code",
   "execution_count": 14,
   "metadata": {},
   "outputs": [
    {
     "name": "stdout",
     "output_type": "stream",
     "text": [
      "(64, 64, 3)\n"
     ]
    },
    {
     "data": {
      "image/png": "[encoded data removed]",
      "text/plain": [
       "<Figure size 432x288 with 1 Axes>"
      ]
     },
     "metadata": {
      "needs_background": "light"
     },
     "output_type": "display_data"
    }
   ],
   "source": [
    "target = load_image(\"./arbol.png\", size=(64, 64))\n",
    "print(target.shape)\n",
    "show_image(target)"
   ]
  },
  {
   "cell_type": "code",
   "execution_count": 58,
   "metadata": {},
   "outputs": [],
   "source": [
    "bounds = [\n",
    "    [0,1],                     # X position\n",
    "    [0,1],                     # Y position\n",
    "    [0,0.5],                      # Radius\n",
    "    [0,1],                      # Red\n",
    "    [0,1],                      # Green\n",
    "    [0,1],                      # Blue\n",
    "    [0,1]                       # Alpha\n",
    "]"
   ]
  },
  {
   "cell_type": "code",
   "execution_count": 32,
   "metadata": {},
   "outputs": [],
   "source": [
    "def generate_circle(bounds):\n",
    "    var_no = len(bounds)\n",
    "    \n",
    "    circle = []\n",
    "    for bound in bounds:\n",
    "        circle.append(np.random.uniform(bound[0], bound[1]))\n",
    "\n",
    "    return circle\n",
    "        "
   ]
  },
  {
   "cell_type": "code",
   "execution_count": 59,
   "metadata": {},
   "outputs": [],
   "source": [
    "circles = [generate_circle(bounds) for _ in range(10)]"
   ]
  },
  {
   "cell_type": "code",
   "execution_count": 61,
   "metadata": {},
   "outputs": [
    {
     "name": "stdout",
     "output_type": "stream",
     "text": [
      "<class 'matplotlib.figure.Figure'> <class 'matplotlib.axes._subplots.AxesSubplot'>\n"
     ]
    },
    {
     "data": {
      "image/png": "[encoded data removed]",
      "text/plain": [
       "<Figure size 432x288 with 1 Axes>"
      ]
     },
     "metadata": {
      "needs_background": "light"
     },
     "output_type": "display_data"
    }
   ],
   "source": [
    "# plt.Circle((X,Y), radius, color, alpha)\n",
    "\n",
    "#circle1 = plt.Circle((c[0], c[1]), radius=c[2], color=(c[3], c[4], c[5]), alpha=c[6])\n",
    "\n",
    "fig, ax = plt.subplots()\n",
    "print(type(fig), type(ax))\n",
    "ax.set_aspect( 1 )\n",
    "\n",
    "for c in circles:\n",
    "    circle1 = plt.Circle((c[0], c[1]), radius=c[2], color=(c[3], c[4], c[5]), alpha=c[6])\n",
    "    ax.add_patch(circle1)\n",
    "\n",
    "plt.show()"
   ]
  },
  {
   "cell_type": "code",
   "execution_count": null,
   "metadata": {},
   "outputs": [],
   "source": [
    "class Fitness:\n",
    "    def __init__(self, target):\n",
    "        self.target = target\n",
    "        self.max_error = (np.square((1 - (self.target >= 127)) * 255 - self.target)).mean(axis=None)\n",
    "\n",
    "    def score(self, individual):\n",
    "        fit = (np.square(individual - self.target)).mean(axis=None)\n",
    "        fit = (self.max_error - fit) / self.max_error\n",
    "        return fit"
   ]
  },
  {
   "cell_type": "code",
   "execution_count": 11,
   "metadata": {},
   "outputs": [],
   "source": [
    "class Individual:\n",
    "    def __init__(self, size, genes=128, genotype=None):\n",
    "        self.size = size\n",
    "        self.genotype_width = 5 if len(size) < 3 else 7\n",
    "        self.genotype = genotype if genotype is not None else np.random.rand(genes, self.genotype_width)\n",
    "        self.gtype_img = np.zeros(size)\n",
    "\n",
    "    def genes(self):\n",
    "        return self.genotype.shape[0]\n",
    "\n",
    "    def genotype_to_image(self):\n",
    "        self.gtype_img.fill(0)\n",
    "        radius_avg = (self.size[0] + self.size[1]) / 2 / 6\n",
    "        \n",
    "        for row in self.genotype:\n",
    "            overlay = self.gtype_img.copy()\n",
    "            color = (row[3:-1] * 255).astype(int).tolist()\n",
    "            cv2.circle(\n",
    "                overlay,\n",
    "                center = (int(row[1] * self.size[1]), int(row[0] * self.size[0])),\n",
    "                radius = int(row[2] * radius_avg),\n",
    "                color = color,\n",
    "                thickness = -1,\n",
    "            )\n",
    "\n",
    "            alpha = row[-1]\n",
    "            self.gtype_img = cv2.addWeighted(overlay, alpha, self.gtype_img, 1 - alpha, 0)\n",
    "\n"
   ]
  },
  {
   "cell_type": "code",
   "execution_count": null,
   "metadata": {},
   "outputs": [],
   "source": [
    "class DifferentialEvolition:\n",
    "    def __init__(self, target, genes=100):\n",
    "        self.size = target.shape        # np.shape of target image\n",
    "        self.target = target            # Target image for evolutio\n",
    "        self.generations = 1            # No. of generations\n",
    "        self.genes = genes              # No. of circle to train the target image on\n",
    "        self.specie = Individual(size=self.size, genes=genes)\n",
    "\n",
    "    "
   ]
  }
 ],
 "metadata": {
  "kernelspec": {
   "display_name": "Python 3.8.3 ('base')",
   "language": "python",
   "name": "python3"
  },
  "language_info": {
   "codemirror_mode": {
    "name": "ipython",
    "version": 3
   },
   "file_extension": ".py",
   "mimetype": "text/x-python",
   "name": "python",
   "nbconvert_exporter": "python",
   "pygments_lexer": "ipython3",
   "version": "3.8.3"
  },
  "orig_nbformat": 4,
  "vscode": {
   "interpreter": {
    "hash": "9c80a7e3a2de4dde693dabf38008612d40fcac8e48a425c55413d53e2fda1a28"
   }
  }
 },
 "nbformat": 4,
 "nbformat_minor": 2
}
