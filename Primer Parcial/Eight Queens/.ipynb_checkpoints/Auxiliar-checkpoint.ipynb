{
 "cells": [
  {
   "cell_type": "code",
   "execution_count": 1,
   "id": "c2bddb8d",
   "metadata": {},
   "outputs": [],
   "source": [
    "import numpy as np\n",
    "import pandas as pd\n",
    "import matplotlib.pyplot as plt\n",
    "import math \n",
    "import random\n",
    "import copy"
   ]
  },
  {
   "cell_type": "code",
   "execution_count": 19,
   "id": "f069c553",
   "metadata": {},
   "outputs": [],
   "source": [
    "def getProposal(n):\n",
    "    r= np.arange(n)\n",
    "    r=np.random.permutation(r)\n",
    "    #print(r)\n",
    "    return r"
   ]
  },
  {
   "cell_type": "code",
   "execution_count": 26,
   "id": "797dd969",
   "metadata": {},
   "outputs": [
    {
     "name": "stdout",
     "output_type": "stream",
     "text": [
      "[0 4 6 1 3 5 2 7]\n"
     ]
    }
   ],
   "source": [
    "a=getProposal(8)\n",
    "print(a)"
   ]
  },
  {
   "cell_type": "code",
   "execution_count": 42,
   "id": "28967c0f",
   "metadata": {},
   "outputs": [],
   "source": [
    "def validation(posiciones,nreina):\n",
    "    r=int((nreina*(nreina-1))/2)\n",
    "    for i in range(0,nreina):\n",
    "        for j in range(i+1,nreina):\n",
    "            if(posiciones[i]==posiciones[j]):\n",
    "                \n",
    "                r-=1\n",
    "            if((posiciones[i]+i)==(posiciones[j]+j)):\n",
    "                r-=1\n",
    "                print(i)\n",
    "                print(j)\n",
    "                print(\"---------\")\n",
    "            if((posiciones[i]-i)==(posiciones[j]-j)):\n",
    "                r-=1\n",
    "                print(i)\n",
    "                print(j)\n",
    "                print(\"---------\")\n",
    "    return r\n",
    "\n",
    "def plot_solution(solution):\n",
    "    fig = plt.figure()\n",
    "    ax = fig.add_subplot(111, aspect='equal')\n",
    "    ax.set_xlim((0, 8))\n",
    "    ax.set_ylim((0, 8))\n",
    "\n",
    "    count = 0\n",
    "    for queen in solution:\n",
    "        ax.add_patch(plt.Rectangle((queen, count), 1, 1))\n",
    "        count += 1\n",
    "    plt.show(fig)"
   ]
  },
  {
   "cell_type": "code",
   "execution_count": 43,
   "id": "330d7476",
   "metadata": {},
   "outputs": [
    {
     "name": "stdout",
     "output_type": "stream",
     "text": [
      "0\n",
      "5\n",
      "---------\n",
      "0\n",
      "7\n",
      "---------\n",
      "2\n",
      "6\n",
      "---------\n",
      "5\n",
      "7\n",
      "---------\n",
      "24\n"
     ]
    }
   ],
   "source": [
    "print(validation(a,8))"
   ]
  },
  {
   "cell_type": "code",
   "execution_count": 44,
   "id": "cddf5032",
   "metadata": {},
   "outputs": [
    {
     "data": {
      "image/png": "[encoded data removed]",
      "text/plain": [
       "<Figure size 432x288 with 1 Axes>"
      ]
     },
     "metadata": {},
     "output_type": "display_data"
    }
   ],
   "source": [
    "plot_solution(a)"
   ]
  },
  {
   "cell_type": "code",
   "execution_count": 31,
   "id": "43954f82",
   "metadata": {},
   "outputs": [
    {
     "data": {
      "image/png": "[encoded data removed]",
      "text/plain": [
       "<Figure size 432x288 with 1 Axes>"
      ]
     },
     "metadata": {},
     "output_type": "display_data"
    }
   ],
   "source": []
  },
  {
   "cell_type": "code",
   "execution_count": 17,
   "id": "f2ce2076",
   "metadata": {},
   "outputs": [],
   "source": []
  },
  {
   "cell_type": "code",
   "execution_count": 18,
   "id": "1f593245",
   "metadata": {},
   "outputs": [
    {
     "ename": "NameError",
     "evalue": "name 'Solution' is not defined",
     "output_type": "error",
     "traceback": [
      "\u001b[1;31m---------------------------------------------------------------------------\u001b[0m",
      "\u001b[1;31mNameError\u001b[0m                                 Traceback (most recent call last)",
      "Input \u001b[1;32mIn [18]\u001b[0m, in \u001b[0;36m<cell line: 1>\u001b[1;34m()\u001b[0m\n\u001b[1;32m----> 1\u001b[0m \u001b[43mplot2\u001b[49m\u001b[43m(\u001b[49m\u001b[43ma\u001b[49m\u001b[43m)\u001b[49m\n",
      "Input \u001b[1;32mIn [17]\u001b[0m, in \u001b[0;36mplot2\u001b[1;34m(grid)\u001b[0m\n\u001b[0;32m     15\u001b[0m ax \u001b[38;5;241m=\u001b[39m plt\u001b[38;5;241m.\u001b[39mgca() \u001b[38;5;66;03m#you first need to get the axis handle\u001b[39;00m\n\u001b[0;32m     16\u001b[0m ax\u001b[38;5;241m.\u001b[39mset_aspect(\u001b[38;5;241m1\u001b[39m)\n\u001b[1;32m---> 17\u001b[0m sns\u001b[38;5;241m.\u001b[39mheatmap(\u001b[43mSolution\u001b[49m,linewidths\u001b[38;5;241m=\u001b[39m\u001b[38;5;241m.8\u001b[39m,cbar\u001b[38;5;241m=\u001b[39m\u001b[38;5;28;01mFalse\u001b[39;00m,linecolor\u001b[38;5;241m=\u001b[39m\u001b[38;5;124m'\u001b[39m\u001b[38;5;124mblue\u001b[39m\u001b[38;5;124m'\u001b[39m,\n\u001b[0;32m     18\u001b[0m             cmap\u001b[38;5;241m=\u001b[39m\u001b[38;5;124m'\u001b[39m\u001b[38;5;124mReds\u001b[39m\u001b[38;5;124m'\u001b[39m,center\u001b[38;5;241m=\u001b[39m\u001b[38;5;241m0.4\u001b[39m,xticklabels\u001b[38;5;241m=\u001b[39mlx,yticklabels\u001b[38;5;241m=\u001b[39mly)\n",
      "\u001b[1;31mNameError\u001b[0m: name 'Solution' is not defined"
     ]
    },
    {
     "data": {
      "image/png": "[encoded data removed]",
      "text/plain": [
       "<Figure size 720x720 with 1 Axes>"
      ]
     },
     "metadata": {},
     "output_type": "display_data"
    }
   ],
   "source": []
  },
  {
   "cell_type": "code",
   "execution_count": null,
   "id": "e5c260a3",
   "metadata": {},
   "outputs": [],
   "source": []
  }
 ],
 "metadata": {
  "kernelspec": {
   "display_name": "Python 3 (ipykernel)",
   "language": "python",
   "name": "python3"
  },
  "language_info": {
   "codemirror_mode": {
    "name": "ipython",
    "version": 3
   },
   "file_extension": ".py",
   "mimetype": "text/x-python",
   "name": "python",
   "nbconvert_exporter": "python",
   "pygments_lexer": "ipython3",
   "version": "3.9.12"
  }
 },
 "nbformat": 4,
 "nbformat_minor": 5
}
