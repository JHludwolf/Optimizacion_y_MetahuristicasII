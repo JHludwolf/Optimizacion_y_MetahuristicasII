{
 "cells": [
  {
   "cell_type": "code",
   "execution_count": 2,
   "metadata": {},
   "outputs": [
    {
     "name": "stdout",
     "output_type": "stream",
     "text": [
      "RIP Genetic Programming, 7/11/2022 17:50:30 - 7/11/2022 17:51:15\n"
     ]
    }
   ],
   "source": [
    "print('RIP Genetic Programming, 7/11/2022 17:50:30 - 7/11/2022 17:51:15')"
   ]
  },
  {
   "cell_type": "code",
   "execution_count": null,
   "metadata": {},
   "outputs": [],
   "source": []
  }
 ],
 "metadata": {
  "kernelspec": {
   "display_name": "Python 3.8.3 ('base')",
   "language": "python",
   "name": "python3"
  },
  "language_info": {
   "codemirror_mode": {
    "name": "ipython",
    "version": 3
   },
   "file_extension": ".py",
   "mimetype": "text/x-python",
   "name": "python",
   "nbconvert_exporter": "python",
   "pygments_lexer": "ipython3",
   "version": "3.8.3"
  },
  "orig_nbformat": 4,
  "vscode": {
   "interpreter": {
    "hash": "9c80a7e3a2de4dde693dabf38008612d40fcac8e48a425c55413d53e2fda1a28"
   }
  }
 },
 "nbformat": 4,
 "nbformat_minor": 2
}
