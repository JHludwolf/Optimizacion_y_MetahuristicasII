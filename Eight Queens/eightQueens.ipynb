{
 "cells": [
  {
   "cell_type": "code",
   "execution_count": 1,
   "metadata": {},
   "outputs": [],
   "source": [
    "import numpy as np\n",
    "import pandas as pd\n",
    "import matplotlib.pyplot as plt\n",
    "import math \n",
    "import random\n",
    "import copy"
   ]
  },
  {
   "cell_type": "markdown",
   "metadata": {},
   "source": [
    "# Eight Queens Problem with a Genetic Algorithm Approach"
   ]
  },
  {
   "cell_type": "markdown",
   "metadata": {},
   "source": [
    "José Luis Lobera del Castillo & Rafael Andrade Ruíz Capetillo <br>\n",
    "Optimización y Metahurísticas II <br>\n",
    "Dra. Claudia Nallely Sánchez Gómez\n"
   ]
  },
  {
   "cell_type": "code",
   "execution_count": 2,
   "metadata": {},
   "outputs": [],
   "source": [
    "# plot_solution(solution : list | array): void\n",
    "# Plots an N*N board with squares representing the queens positions\n",
    "\n",
    "def plot_solution(solution):\n",
    "    fig = plt.figure(figsize=(5,5))\n",
    "    ax = fig.add_subplot(111)\n",
    "    ax.set_xlim((0, 8))\n",
    "    ax.set_ylim((0, 8))\n",
    "\n",
    "    count = 0\n",
    "    for queen in solution:\n",
    "        ax.add_patch(plt.Rectangle((count, queen), 1, 1))\n",
    "        count += 1\n",
    "    plt.grid(True)\n",
    "    plt.show(fig)"
   ]
  },
  {
   "cell_type": "code",
   "execution_count": 3,
   "metadata": {},
   "outputs": [],
   "source": [
    "# getWeakpoints(x : int, y : int, N : int): list\n",
    "# Returns the coordinates where other queens can't be placed\n",
    "\n",
    "def getWeakpoints(x, y, N):\n",
    "\n",
    "    weakpoints = []\n",
    "    \n",
    "    weakpoints += list(zip(range(0, x), [y]*x))                         # Left\n",
    "    weakpoints += list(zip(range(x+1, N), [y]*(N-x)))                   # Right\n",
    "    weakpoints += list(zip([x]*y, range(0, y)))                         # Down\n",
    "    weakpoints += list(zip([x]*(N-y), range(y+1, N)))                   # Up\n",
    "\n",
    "    \n",
    "    weakpoints += list(zip(range(x-1, -1, -1), range(y-1, -1, -1)))     # Down Left\n",
    "    weakpoints += list(zip(range(x+1, N), range(y+1, N)))               # Up Right\n",
    "    weakpoints += list(zip(range(x-1, -1, -1), range(y+1, N)))          # Down Right\n",
    "    weakpoints += list(zip(range(x+1, N), range(y-1, -1, -1)))          # Up Left\n",
    "\n",
    "    return weakpoints"
   ]
  },
  {
   "cell_type": "code",
   "execution_count": 4,
   "metadata": {},
   "outputs": [],
   "source": [
    "# isSafe(board : list | array, row : int, col : int, N=8 : int): bool\n",
    "# Returns true if a queen isn't in the attack range of the other queens\n",
    "\n",
    "def isSafe(board, row, col, N=8):\n",
    "    queens = list(zip(range(N), board))\n",
    "    weakpoints = getWeakpoints(row, col, N)\n",
    "    \n",
    "    for queen in queens:\n",
    "        if queen in weakpoints:\n",
    "            return False\n",
    "  \n",
    "    return True"
   ]
  },
  {
   "cell_type": "code",
   "execution_count": 5,
   "metadata": {},
   "outputs": [],
   "source": [
    "# timesHitted(board : list | array, row : int, col : int, N=8): int\n",
    "# Counts the amount of collisions between a position and the queens on board\n",
    "\n",
    "def timesHitted(board, row, col, N=8):\n",
    "    queens = list(zip(range(N), board))\n",
    "\n",
    "    miniScore = 0\n",
    "    weakpoints = getWeakpoints(row, col, N)\n",
    "    for queen in queens:\n",
    "        if queen in weakpoints:\n",
    "            miniScore += 1\n",
    "  \n",
    "    return miniScore"
   ]
  },
  {
   "cell_type": "code",
   "execution_count": 6,
   "metadata": {},
   "outputs": [],
   "source": [
    "# objectiveFunction(solution : list | array): int\n",
    "# Returns a score which represents the amount of safe queens on board\n",
    "\n",
    "def objectiveFunction(solution):\n",
    "    scoreSum = 0\n",
    "    for i, queen in enumerate(solution):\n",
    "        #scoreSum += timesHitted(solution, i, queen)\n",
    "        if isSafe(solution, i, queen):\n",
    "            scoreSum += 1\n",
    "    return scoreSum"
   ]
  },
  {
   "cell_type": "code",
   "execution_count": 7,
   "metadata": {},
   "outputs": [],
   "source": [
    "# GetRandomChromosome(n = int): list\n",
    "# Returns a random permutation of an N range, which represents N placed queens on board\n",
    "\n",
    "def GetRandomChromosome(n):\n",
    "    chromosome = np.random.permutation(np.arange(n))\n",
    "    score = objectiveFunction(chromosome)\n",
    "    return [chromosome, score]"
   ]
  },
  {
   "cell_type": "code",
   "execution_count": 8,
   "metadata": {},
   "outputs": [],
   "source": [
    "# getPopulation(populationSize : int, chromosomeSize : int): list<list>\n",
    "# Returns a list of chromosomes\n",
    "    \n",
    "def getPopulation(populationSize, chromosomeSize):\n",
    "    return [GetRandomChromosome(chromosomeSize) for _ in range(populationSize)]"
   ]
  },
  {
   "cell_type": "code",
   "execution_count": 9,
   "metadata": {},
   "outputs": [],
   "source": [
    "# TournamentSelection(population : list<list> | array<array>, k=2: int): list | array\n",
    "# Returns a random chromosome from the community of k members of the population\n",
    "\n",
    "def TournamentSelection(population, k=2):\n",
    "    community = random.sample(population, k)\n",
    "    localElite = community[0]\n",
    "    \n",
    "    for chromosome in community:\n",
    "        if chromosome[1] >= localElite[1]:\n",
    "            localElite = chromosome\n",
    "            \n",
    "    return localElite"
   ]
  },
  {
   "cell_type": "code",
   "execution_count": 10,
   "metadata": {},
   "outputs": [],
   "source": [
    "# getElite(A : list | array, B : list | array): list | array\n",
    "# Returns the chromosome with the highest score (Chromosome[1])\n",
    "\n",
    "def getElite(A, B):\n",
    "    if A is None: return B\n",
    "    if B is None: return A\n",
    "    \n",
    "    if A[1] >= B[1]:\n",
    "        return A\n",
    "    else:\n",
    "        return B"
   ]
  },
  {
   "cell_type": "code",
   "execution_count": 11,
   "metadata": {},
   "outputs": [],
   "source": [
    "# pointCrossover(A : list | array, B : list | array, reproductionProbability : float, N : int): list | array\n",
    "# If the probability of reproduction appears, two chromosomes will be splited and joined to create a new\n",
    "\n",
    "def pointCrossover(A, B, reproductionProbability, N):\n",
    "\n",
    "    if random.random() <= reproductionProbability:\n",
    "        \n",
    "        crosspoint = random.randint(0, N-1)\n",
    "        C = np.concatenate((A[0][:crosspoint], B[0][crosspoint:]), axis=0)\n",
    "        score = objectiveFunction(C)\n",
    "        return [C, score]\n",
    "        \n",
    "    else:\n",
    "        return copy.deepcopy(A)"
   ]
  },
  {
   "cell_type": "code",
   "execution_count": 12,
   "metadata": {},
   "outputs": [],
   "source": [
    "# mutation(C : list | array, mutationProbability : float, N: int): void\\n\",\n",
    "# If the probability of mutation appears, a random gene will be changed from the chromosome\n",
    "\n",
    "def mutation(C, mutationProbability, N):\n",
    "    if random.random() <= mutationProbability:\n",
    "        mutatedGeneIdx = random.randint(0, N-1)\n",
    "        C[0][mutatedGeneIdx] = random.randint(0, N-1)\n",
    "        C[1] = objectiveFunction(C[0])"
   ]
  },
  {
   "cell_type": "code",
   "execution_count": 15,
   "metadata": {},
   "outputs": [],
   "source": [
    "# geneticAlgorithm(noQueens : int, populationSize : int, generations : int\n",
    "#   reproductionProbability : float, mutationProbability : float): list\n",
    "\n",
    "def geneticAlgorithm(noQueens, populationSize, generations, reproductionProbability, mutationProbability):\n",
    "    eliteIndividual = None\n",
    "\n",
    "    fatherPopulation = getPopulation(populationSize, 8) # First Gen\n",
    "    sonPopulation = []\n",
    "\n",
    "    actualGeneration = 0\n",
    "\n",
    "    while actualGeneration < generations: # OR we haven't found a good solution\n",
    "        \n",
    "        for _ in range(populationSize):\n",
    "            G11 = TournamentSelection(fatherPopulation)\n",
    "            G12 = TournamentSelection(fatherPopulation)\n",
    "\n",
    "            G21 = pointCrossover(G11, G12, reproductionProbability, noQueens)\n",
    "            mutation(G21, mutationProbability, noQueens)\n",
    "\n",
    "            sonPopulation.append(G21)\n",
    "            \n",
    "            eliteIndividual = getElite(G21, eliteIndividual)\n",
    "        \n",
    "        fatherPopulation = sonPopulation\n",
    "        sonPopulation = []\n",
    "\n",
    "        actualGeneration += 1\n",
    "    \n",
    "    return eliteIndividual"
   ]
  },
  {
   "cell_type": "markdown",
   "metadata": {},
   "source": [
    "### Test Case"
   ]
  },
  {
   "cell_type": "code",
   "execution_count": 22,
   "metadata": {},
   "outputs": [],
   "source": [
    "noQueens = 8\n",
    "populationSize = 100\n",
    "generations = 100\n",
    "reproductionProbability = 0.8\n",
    "mutationProbability = 0.2\n",
    "\n",
    "result = geneticAlgorithm(noQueens, populationSize, generations, reproductionProbability, mutationProbability)"
   ]
  },
  {
   "cell_type": "code",
   "execution_count": 23,
   "metadata": {},
   "outputs": [
    {
     "name": "stdout",
     "output_type": "stream",
     "text": [
      "Score:  8 Queens\n"
     ]
    },
    {
     "data": {
      "image/png": "[encoded data removed]",
      "text/plain": [
       "<Figure size 360x360 with 1 Axes>"
      ]
     },
     "metadata": {
      "needs_background": "light"
     },
     "output_type": "display_data"
    }
   ],
   "source": [
    "print('Score: ', result[1], 'Queens')\n",
    "plot_solution(result[0])"
   ]
  },
  {
   "cell_type": "code",
   "execution_count": null,
   "metadata": {},
   "outputs": [],
   "source": []
  }
 ],
 "metadata": {
  "kernelspec": {
   "display_name": "Python 3 (ipykernel)",
   "language": "python",
   "name": "python3"
  },
  "language_info": {
   "codemirror_mode": {
    "name": "ipython",
    "version": 3
   },
   "file_extension": ".py",
   "mimetype": "text/x-python",
   "name": "python",
   "nbconvert_exporter": "python",
   "pygments_lexer": "ipython3",
   "version": "3.8.3"
  },
  "vscode": {
   "interpreter": {
    "hash": "9c80a7e3a2de4dde693dabf38008612d40fcac8e48a425c55413d53e2fda1a28"
   }
  }
 },
 "nbformat": 4,
 "nbformat_minor": 2
}
