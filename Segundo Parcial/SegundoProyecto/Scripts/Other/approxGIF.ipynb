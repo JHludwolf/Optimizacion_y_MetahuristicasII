{
 "cells": [
  {
   "cell_type": "code",
   "execution_count": null,
   "metadata": {},
   "outputs": [],
   "source": [
    "path2 = '../Images/arbol.png'\n",
    "target2 = load_image(path2, size=(64,64))\n",
    "show_image(target2)\n",
    "print('Target Shape:', target2.shape)"
   ]
  },
  {
   "cell_type": "code",
   "execution_count": null,
   "metadata": {},
   "outputs": [],
   "source": [
    "phenotype2 = np.zeros(shape=target2.shape)\n",
    "phenotype2.fill(255)"
   ]
  },
  {
   "cell_type": "code",
   "execution_count": null,
   "metadata": {},
   "outputs": [],
   "source": [
    "def objective_function_2(P):\n",
    "    global target2\n",
    "    global phenotype2\n",
    "    \n",
    "    new_phenotype = add_circle(phenotype2, P)\n",
    "\n",
    "    max_error = (np.square((1 - (target2 >= 127)) * 255 - target2)).mean(axis=None)\n",
    "    fit = (np.square(new_phenotype - target2)).mean(axis=None)\n",
    "    fit = (max_error - fit) / max_error\n",
    "        \n",
    "    return 1 - fit"
   ]
  },
  {
   "cell_type": "code",
   "execution_count": null,
   "metadata": {},
   "outputs": [],
   "source": [
    "def callback_2(P, g):\n",
    "    global phenotype2\n",
    "    phenotype2 = add_circle(phenotype2, P)\n",
    "\n",
    "    if g < 100 or g % 150 == 0:\n",
    "        clear_output(wait=True)\n",
    "        dir = '../Images/Outputs/' + filename_from_path(path2) + '/'\n",
    "        exists = os.path.exists(dir)\n",
    "\n",
    "        if not exists:\n",
    "            os.makedirs(dir)\n",
    "        \n",
    "        n = str(g)\n",
    "        if g < 10: n = '000' + n\n",
    "        elif g < 100: n = '00' + n\n",
    "        elif g < 1000: n = '0' + n \n",
    "        name = dir + filename_from_path(path2) + '_gen_' + n + '.png'\n",
    "\n",
    "        plt.figure(figsize=(5,5))\n",
    "        plt.axis(\"off\")\n",
    "        #plt.imsave(name, phenotype / 255)\n",
    "        plt.imshow(phenotype2 / 255)\n",
    "        plt.savefig(name)\n",
    "        #show_image(phenotype)"
   ]
  },
  {
   "cell_type": "code",
   "execution_count": null,
   "metadata": {},
   "outputs": [],
   "source": [
    "differential_evolution(objective_function_2, bounds, niter=10000, popsize=100, callback=callback_2)"
   ]
  }
 ],
 "metadata": {
  "kernelspec": {
   "display_name": "Python 3.8.3 ('base')",
   "language": "python",
   "name": "python3"
  },
  "language_info": {
   "name": "python",
   "version": "3.8.3"
  },
  "orig_nbformat": 4,
  "vscode": {
   "interpreter": {
    "hash": "9c80a7e3a2de4dde693dabf38008612d40fcac8e48a425c55413d53e2fda1a28"
   }
  }
 },
 "nbformat": 4,
 "nbformat_minor": 2
}
