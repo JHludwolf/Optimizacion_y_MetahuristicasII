{
 "cells": [
  {
   "cell_type": "code",
   "execution_count": 6,
   "metadata": {},
   "outputs": [],
   "source": [
    "import numpy as np\n",
    "import random\n",
    "import matplotlib.pyplot as plt"
   ]
  },
  {
   "cell_type": "code",
   "execution_count": 7,
   "metadata": {},
   "outputs": [],
   "source": [
    "def fitness_function(p, m):\n",
    "    A_ub = [\n",
    "        [1,2],\n",
    "        [3,2]\n",
    "    ]\n",
    "\n",
    "    b_ub = [80, 120]\n",
    "\n",
    "    #p, m = x[0], x[1]\n",
    "\n",
    "    #if p + 2*m <= 80 or 3*p + 2*m <= 120: return -1 \n",
    "        \n",
    "    return - 20000*p + -15000*m"
   ]
  },
  {
   "cell_type": "code",
   "execution_count": 40,
   "metadata": {},
   "outputs": [],
   "source": [
    "def funobj(X):\n",
    "    p,m = X[0],X[1]\n",
    "    return -20000*p + -15000*m\n",
    "def funFeasible(X):\n",
    "    p,m = X[0],X[1]\n",
    "    if p + 2*m > 80: return False\n",
    "    if 3*p + 2*m > 120: return False\n",
    "    if p<0: return False\n",
    "    if m<0: return False\n",
    "    return True\n",
    "bounds = np.array([[0,500],[0,500]])"
   ]
  },
  {
   "cell_type": "code",
   "execution_count": 21,
   "metadata": {},
   "outputs": [],
   "source": [
    "def update_velocity(particle, velocity, pbest, gbest, w_min=0.5, max=1.0, c=0.1):\n",
    "  # Initialise new velocity array\n",
    "  num_particle = len(particle)\n",
    "  new_velocity = np.array([0.0 for i in range(num_particle)])\n",
    "  # Randomly generate r1, r2 and inertia weight from normal distribution\n",
    "  r1 = random.uniform(0,max)\n",
    "  r2 = random.uniform(0,max)\n",
    "  w = random.uniform(w_min,max)\n",
    "  c1 = c\n",
    "  c2 = c\n",
    "  # Calculate new velocity\n",
    "  for i in range(num_particle):\n",
    "    new_velocity[i] = w*velocity[i] + c1*r1*(pbest[i]-particle[i])+c2*r2*(gbest[i]-particle[i])\n",
    "  return new_velocity"
   ]
  },
  {
   "cell_type": "code",
   "execution_count": 22,
   "metadata": {},
   "outputs": [],
   "source": [
    "def update_position(particle, velocity):\n",
    "  # Move particles by adding velocity\n",
    "  new_particle = particle + velocity\n",
    "  return new_particle"
   ]
  },
  {
   "cell_type": "code",
   "execution_count": 38,
   "metadata": {},
   "outputs": [],
   "source": [
    "def pso_2d(population, dimension, position_min, position_max, generation, fitness_criterion):\n",
    "  # Initialisation\n",
    "  # Population\n",
    "  particles = [[random.uniform(position_min, position_max) for j in range(dimension)] for i in range(population)]\n",
    "  # Particle's best position\n",
    "  pbest_position = particles\n",
    "  # Fitness\n",
    "  pbest_fitness = [fitness_function(p[0],p[1]) for p in particles]\n",
    "  # Index of the best particle\n",
    "  gbest_index = np.argmin(pbest_fitness)\n",
    "  # Global best particle position\n",
    "  gbest_position = pbest_position[gbest_index]\n",
    "  # Velocity (starting from 0 speed)\n",
    "  velocity = [[0.0 for j in range(dimension)] for i in range(population)]\n",
    "  \n",
    "  # Loop for the number of generation\n",
    "  for t in range(generation):\n",
    "    # Stop if the average fitness value reached a predefined success criterion\n",
    "    if np.average(pbest_fitness) <= fitness_criterion:\n",
    "      break\n",
    "    else:\n",
    "      for n in range(population):\n",
    "        # Update the velocity of each particle\n",
    "        velocity[n] = update_velocity(particles[n], velocity[n], pbest_position[n], gbest_position)\n",
    "        # Move the particles to new position\n",
    "        particles[n] = update_position(particles[n], velocity[n])\n",
    "\n",
    "        fitness = fitness_function(particles[n][0], particles[n][1])\n",
    "        if fitness < pbest_fitness[n]:\n",
    "          pbest_position[n] = particles[n]\n",
    "          pbest_fitness[n] = fitness\n",
    "\n",
    "        if fitness < fitness_function(gbest_position[0], gbest_position[1]):\n",
    "          gbest_position = particles[n]\n",
    "          gbest_index = n\n",
    "          \n",
    "    # Calculate the fitness value\n",
    "    #pbest_fitness = [fitness_function(p[0],p[1]) for p in particles]\n",
    "    # Find the index of the best particle\n",
    "    #gbest_index = np.argmin(pbest_fitness)\n",
    "    # Update the position of the best particle\n",
    "    #gbest_position = pbest_position[gbest_index]\n",
    "\n",
    "  # Print the results\n",
    "  print('Global Best Position: ', gbest_position)\n",
    "  print('Best Fitness Value: ', min(pbest_fitness))\n",
    "  print('Average Particle Best Fitness Value: ', np.average(pbest_fitness))\n",
    "  print('Number of Generation: ', t)"
   ]
  },
  {
   "cell_type": "code",
   "execution_count": 41,
   "metadata": {},
   "outputs": [
    {
     "name": "stdout",
     "output_type": "stream",
     "text": [
      "Global Best Position:  [474.8523172168299, 482.7968461794367]\n",
      "Best Fitness Value:  -15888999.037028149\n",
      "Average Particle Best Fitness Value:  -8417338.324267875\n",
      "Number of Generation:  0\n"
     ]
    }
   ],
   "source": [
    "population = 100\n",
    "dimension = 2\n",
    "position_min = 0.0\n",
    "position_max = 500.0\n",
    "generation = 4000\n",
    "fitness_criterion = 10e-4\n",
    "\n",
    "pso_2d(population, dimension, position_min, position_max, generation, fitness_criterion)"
   ]
  },
  {
   "cell_type": "code",
   "execution_count": null,
   "metadata": {},
   "outputs": [],
   "source": []
  },
  {
   "cell_type": "code",
   "execution_count": 35,
   "metadata": {},
   "outputs": [
    {
     "name": "stdout",
     "output_type": "stream",
     "text": [
      "FINAL:\n",
      "[40, 40]\n",
      "-550000.0\n"
     ]
    },
    {
     "data": {
      "text/plain": [
       "<__main__.PSO at 0x7f842a46ff70>"
      ]
     },
     "execution_count": 35,
     "metadata": {},
     "output_type": "execute_result"
    }
   ],
   "source": [
    "from __future__ import division\n",
    "import random\n",
    "import math\n",
    "\n",
    "#--- COST FUNCTION ------------------------------------------------------------+\n",
    "\n",
    "# function we are attempting to optimize (minimize)\n",
    "def func1(x):\n",
    "    total=0\n",
    "    for i in range(len(x)):\n",
    "        total+=x[i]**2\n",
    "    return total\n",
    "\n",
    "def func2(x):\n",
    "    return 850000 - (20000*x[0] + 15000*x[1])\n",
    "\n",
    "#--- MAIN ---------------------------------------------------------------------+\n",
    "\n",
    "class Particle:\n",
    "    def __init__(self,x0):\n",
    "        self.position_i=[]          # particle position\n",
    "        self.velocity_i=[]          # particle velocity\n",
    "        self.pos_best_i=[]          # best position individual\n",
    "        self.err_best_i=-1          # best error individual\n",
    "        self.err_i=-1               # error individual\n",
    "\n",
    "        for i in range(0,num_dimensions):\n",
    "            self.velocity_i.append(random.uniform(-1,1))\n",
    "            self.position_i.append(x0[i])\n",
    "\n",
    "    # evaluate current fitness\n",
    "    def evaluate(self,costFunc):\n",
    "        self.err_i=costFunc(self.position_i)\n",
    "\n",
    "        # check to see if the current position is an individual best\n",
    "        if self.err_i < self.err_best_i or self.err_best_i==-1:\n",
    "            self.pos_best_i=self.position_i\n",
    "            self.err_best_i=self.err_i\n",
    "\n",
    "    # update new particle velocity\n",
    "    def update_velocity(self,pos_best_g):\n",
    "        w=0.5       # constant inertia weight (how much to weigh the previous velocity)\n",
    "        c1=1        # cognative constant\n",
    "        c2=2        # social constant\n",
    "\n",
    "        for i in range(0,num_dimensions):\n",
    "            r1=random.random()\n",
    "            r2=random.random()\n",
    "\n",
    "            vel_cognitive=c1*r1*(self.pos_best_i[i]-self.position_i[i])\n",
    "            vel_social=c2*r2*(pos_best_g[i]-self.position_i[i])\n",
    "            self.velocity_i[i]=w*self.velocity_i[i]+vel_cognitive+vel_social\n",
    "\n",
    "    # update the particle position based off new velocity updates\n",
    "    def update_position(self,bounds):\n",
    "        for i in range(0,num_dimensions):\n",
    "            self.position_i[i]=self.position_i[i]+self.velocity_i[i]\n",
    "\n",
    "            # adjust maximum position if necessary\n",
    "            if self.position_i[i]>bounds[i][1]:\n",
    "                self.position_i[i]=bounds[i][1]\n",
    "\n",
    "            # adjust minimum position if neseccary\n",
    "            if self.position_i[i] < bounds[i][0]:\n",
    "                self.position_i[i]=bounds[i][0]\n",
    "                \n",
    "class PSO():\n",
    "    def __init__(self,costFunc,x0,bounds,num_particles,maxiter):\n",
    "        global num_dimensions\n",
    "\n",
    "        num_dimensions=len(x0)\n",
    "        err_best_g=-1                   # best error for group\n",
    "        pos_best_g=[]                   # best position for group\n",
    "\n",
    "        # establish the swarm\n",
    "        swarm=[]\n",
    "        for i in range(0,num_particles):\n",
    "            swarm.append(Particle(x0))\n",
    "\n",
    "        # begin optimization loop\n",
    "        i=0\n",
    "        while i < maxiter:\n",
    "            #print i,err_best_g\n",
    "            # cycle through particles in swarm and evaluate fitness\n",
    "            for j in range(0,num_particles):\n",
    "                swarm[j].evaluate(costFunc)\n",
    "\n",
    "                # determine if current particle is the best (globally)\n",
    "                if swarm[j].err_i < err_best_g or err_best_g == -1:\n",
    "                    pos_best_g=list(swarm[j].position_i)\n",
    "                    err_best_g=float(swarm[j].err_i)\n",
    "\n",
    "            # cycle through swarm and update velocities and position\n",
    "            for j in range(0,num_particles):\n",
    "                swarm[j].update_velocity(pos_best_g)\n",
    "                swarm[j].update_position(bounds)\n",
    "            i+=1\n",
    "\n",
    "        # print final results\n",
    "        print('FINAL:')\n",
    "        print(pos_best_g)\n",
    "        print(err_best_g)\n",
    "\n",
    "#--- RUN ----------------------------------------------------------------------+\n",
    "\n",
    "initial=[20,30]               # initial starting location [x1,x2...]\n",
    "bounds=[(0,40),(0,40)]  # input bounds [(x1_min,x1_max),(x2_min,x2_max)...]\n",
    "PSO(func2,initial,bounds,num_particles=15,maxiter=30)"
   ]
  },
  {
   "cell_type": "code",
   "execution_count": null,
   "metadata": {},
   "outputs": [],
   "source": []
  }
 ],
 "metadata": {
  "kernelspec": {
   "display_name": "Python 3.8.3 ('base')",
   "language": "python",
   "name": "python3"
  },
  "language_info": {
   "codemirror_mode": {
    "name": "ipython",
    "version": 3
   },
   "file_extension": ".py",
   "mimetype": "text/x-python",
   "name": "python",
   "nbconvert_exporter": "python",
   "pygments_lexer": "ipython3",
   "version": "3.8.3"
  },
  "orig_nbformat": 4,
  "vscode": {
   "interpreter": {
    "hash": "9c80a7e3a2de4dde693dabf38008612d40fcac8e48a425c55413d53e2fda1a28"
   }
  }
 },
 "nbformat": 4,
 "nbformat_minor": 2
}
