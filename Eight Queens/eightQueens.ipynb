{
 "cells": [
  {
   "cell_type": "code",
   "execution_count": 2,
   "metadata": {},
   "outputs": [],
   "source": [
    "import numpy as np\n",
    "import pandas as pd\n",
    "import matplotlib.pyplot as plt\n",
    "import math \n",
    "import random\n",
    "import copy"
   ]
  },
  {
   "cell_type": "code",
   "execution_count": 16,
   "metadata": {},
   "outputs": [],
   "source": [
    "def plot_solution(solution):\n",
    "    fig = plt.figure()\n",
    "    ax = fig.add_subplot(111, aspect='equal')\n",
    "    ax.set_xlim((0, 8))\n",
    "    ax.set_ylim((0, 8))\n",
    "\n",
    "    count = 0\n",
    "    for queen in solution:\n",
    "        ax.add_patch(plt.Rectangle((queen, count), 1, 1))\n",
    "        count += 1\n",
    "    plt.show(fig)"
   ]
  },
  {
   "cell_type": "code",
   "execution_count": 184,
   "metadata": {},
   "outputs": [],
   "source": [
    "def isSafe(board, row, col, N=8):\n",
    "    queens = list(zip(board, range(N)))\n",
    "    \n",
    "    for i in range(col):\n",
    "        if (row, i) in queens:\n",
    "            return False\n",
    "  \n",
    "    for i, j in zip(range(row, -1, -1), range(col, -1, -1)):\n",
    "        if (i, j) in queens:\n",
    "            return False\n",
    "  \n",
    "    for i, j in zip(range(row, N, 1), range(col, -1, -1)):\n",
    "        if (i, j) in queens:\n",
    "            return False\n",
    "  \n",
    "    return True"
   ]
  },
  {
   "cell_type": "code",
   "execution_count": 190,
   "metadata": {},
   "outputs": [],
   "source": [
    "def objectiveFunction(solution):\n",
    "    scoreSum = 0\n",
    "    for no, queen in enumerate(solution):\n",
    "        if isSafe(solution, no, queen): scoreSum += 1\n",
    "    return scoreSum"
   ]
  },
  {
   "cell_type": "code",
   "execution_count": 191,
   "metadata": {},
   "outputs": [],
   "source": [
    "def GetRandomChromosome(n):\n",
    "    chromosome = np.random.permutation(np.arange(n))\n",
    "    distance = objectiveFunction(chromosome)\n",
    "    return [chromosome, distance]"
   ]
  },
  {
   "cell_type": "code",
   "execution_count": 192,
   "metadata": {},
   "outputs": [],
   "source": [
    "def getPopulation(n = 1):\n",
    "    return [GetRandomChromosome() for _ in range(n)] # O(n)"
   ]
  },
  {
   "cell_type": "code",
   "execution_count": 208,
   "metadata": {},
   "outputs": [
    {
     "name": "stdout",
     "output_type": "stream",
     "text": [
      "Score: 2\n"
     ]
    },
    {
     "data": {
      "image/png": "[encoded data removed]",
      "text/plain": [
       "<Figure size 432x288 with 1 Axes>"
      ]
     },
     "metadata": {
      "needs_background": "light"
     },
     "output_type": "display_data"
    }
   ],
   "source": [
    "x = GetRandomChromosome(8)\n",
    "print(\"Score:\", x[1])\n",
    "plot_solution(x[0])"
   ]
  },
  {
   "cell_type": "code",
   "execution_count": null,
   "metadata": {},
   "outputs": [],
   "source": [
    "def TournamentSelection(population, k=2):\n",
    "    community = random.sample(population, k)\n",
    "    localElite = population[0]\n",
    "    \n",
    "    for chromosome in community:\n",
    "        if chromosome[1] < localElite[1]:\n",
    "            localElite = chromosome\n",
    "            \n",
    "    return localElite"
   ]
  },
  {
   "cell_type": "code",
   "execution_count": null,
   "metadata": {},
   "outputs": [],
   "source": [
    "def getElite(A, B):\n",
    "    if A is None: return B\n",
    "    if B is None: return A\n",
    "    \n",
    "    if distA < distB:\n",
    "        print('New Best')\n",
    "        return A\n",
    "    else:\n",
    "        return B"
   ]
  },
  {
   "cell_type": "code",
   "execution_count": null,
   "metadata": {},
   "outputs": [],
   "source": [
    "def geneticAlgorithm(nCities, N, G, Pr, Pm):\n",
    "    eliteIndividual = None\n",
    "\n",
    "    fatherPopulation = getPopulation(N) # First Gen\n",
    "    sonPopulation = []\n",
    "\n",
    "    actualGeneration = 0\n",
    "\n",
    "    while actualGeneration < G: # OR we haven't found a good solution\n",
    "        \n",
    "        for _ in range(100):\n",
    "            G11 = TournamentSelection(fatherPopulation)\n",
    "            G12 = TournamentSelection(fatherPopulation)\n",
    "\n",
    "            #G21 = pointCrossover(G11, G12, Pr, nCities, node_names, distance_matrix, node_position_dict)\n",
    "            \n",
    "            #swapMutation(G21, Pr, nCities, node_names, distance_matrix, node_position_dict)\n",
    "\n",
    "            #sonPopulation.append(G21)\n",
    "            \n",
    "            eliteIndividual = getElite(G21, eliteIndividual)\n",
    "\n",
    "        for x in sonPopulation:\n",
    "            if x[1] == -1: print(\"-1\")\n",
    "        \n",
    "        fatherPopulation = sonPopulation\n",
    "        sonPopulation = []\n",
    "\n",
    "        actualGeneration += 1\n",
    "    \n",
    "    return eliteIndividual"
   ]
  }
 ],
 "metadata": {
  "kernelspec": {
   "display_name": "Python 3.8.3 ('base')",
   "language": "python",
   "name": "python3"
  },
  "language_info": {
   "codemirror_mode": {
    "name": "ipython",
    "version": 3
   },
   "file_extension": ".py",
   "mimetype": "text/x-python",
   "name": "python",
   "nbconvert_exporter": "python",
   "pygments_lexer": "ipython3",
   "version": "3.8.3"
  },
  "orig_nbformat": 4,
  "vscode": {
   "interpreter": {
    "hash": "9c80a7e3a2de4dde693dabf38008612d40fcac8e48a425c55413d53e2fda1a28"
   }
  }
 },
 "nbformat": 4,
 "nbformat_minor": 2
}
