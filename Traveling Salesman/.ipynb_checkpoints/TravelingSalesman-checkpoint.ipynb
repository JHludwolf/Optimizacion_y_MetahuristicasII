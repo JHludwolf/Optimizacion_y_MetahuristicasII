{
 "cells": [
  {
   "cell_type": "markdown",
   "metadata": {},
   "source": [
    "# Traveling Salesman Problem"
   ]
  },
  {
   "cell_type": "markdown",
   "metadata": {},
   "source": [
    "José Luis Lobera del Castillo <br>\n",
    "Rafael Andrade Ruíz Capetillo"
   ]
  },
  {
   "cell_type": "code",
   "execution_count": 48,
   "metadata": {},
   "outputs": [],
   "source": [
    "import numpy as np\n",
    "import pandas as pd\n",
    "import matplotlib.pyplot as plt\n",
    "import math \n",
    "import random\n",
    "import copy"
   ]
  },
  {
   "cell_type": "code",
   "execution_count": 49,
   "metadata": {},
   "outputs": [],
   "source": [
    "def read_csv_file(path):\n",
    "    df = pd.read_csv(path, index_col=0)\n",
    "    node_names = df.columns\n",
    "    distance_matrix = df.values\n",
    "    node_position_dict = dict(zip(node_names, list(range(len(node_names)))))\n",
    "\n",
    "    return node_names, distance_matrix, node_position_dict\n"
   ]
  },
  {
   "cell_type": "code",
   "execution_count": 50,
   "metadata": {},
   "outputs": [],
   "source": [
    "def GenerateNodes(n,lim):\n",
    "    array_x= np.random.randint(lim, size=n)\n",
    "    array_y= np.random.randint(lim, size=n)\n",
    "    abecedario=['A','B','C','D','E','F','G','H','I','J','J','K','L','M','N','O','P','Q','R','S','T','U','V','W','X','Y','Z']\n",
    "    array_names=[]\n",
    "\n",
    "    for i in range(0,n):\n",
    "        array_names.append(abecedario[i])\n",
    "\n",
    "    #Para distancia exacta quitar que sea int \n",
    "    dist_matrix=np.zeros((n,n), dtype=int)\n",
    "    for i in range(0,n):\n",
    "        for j in range(0,n):\n",
    "            if i!=j:\n",
    "                dist_matrix[i,j]=math.sqrt((array_y[i]-array_y[j])**2+(array_x[i]-array_x[j])**2)\n",
    "                \n",
    "    #print(dist_matrix)\n",
    "    dNodes={}\n",
    "    for i in range(0,n):\n",
    "        dNodes[array_names[i]]=i\n",
    "    #print(dNodes)\n",
    "    \n",
    "    return array_names,dNodes,array_x,array_y,dist_matrix"
   ]
  },
  {
   "cell_type": "code",
   "execution_count": 51,
   "metadata": {},
   "outputs": [],
   "source": [
    "# Use only with generated nodes\n",
    "\n",
    "def PrintNodes(names,x,y):\n",
    "    fig=plt.figure()\n",
    "    ax=fig.add_axes([0,0,1,1])\n",
    "    ax.scatter(x, y, color='r')\n",
    "\n",
    "    for i in range(0,len(names)):\n",
    "        ax.annotate(names[i], (x[i], y[i]))\n",
    "        \n",
    "    ax.set_xlabel('X')\n",
    "    ax.set_ylabel('Y')\n",
    "    ax.set_title('NODES')\n",
    "    \n",
    "    plt.show()"
   ]
  },
  {
   "cell_type": "code",
   "execution_count": 52,
   "metadata": {},
   "outputs": [],
   "source": [
    "def objectiveFunction(node_names, distance_matrix, individual, node_position_dict):\n",
    "    individual = np.array(individual)\n",
    "\n",
    "    if(individual[0] != individual[-1]): return -1                  # First and Last must be equal\n",
    "    if(len(individual) != len(node_names)+1): return -1             # Shorter individual than expected\n",
    "    if(len(node_names) != len(np.unique(individual))): return -1    # Unique values only\n",
    "    #if(sorted(individual[:-1]) != sorted(node_names)): return -1\n",
    "\n",
    "    distance = 0\n",
    "    for i, node in enumerate(individual):\n",
    "        if(i+1 >= len(individual)): break\n",
    "    \n",
    "        distance += distance_matrix[ node_position_dict[ individual[ i ]], node_position_dict[ individual[ i+1 ] ]]\n",
    "        #print(i, node_position_dict[ individual[ i ]])\n",
    "        #print(i, node_position_dict[ individual[ i+1 ]])\n",
    "    return distance"
   ]
  },
  {
   "cell_type": "code",
   "execution_count": 53,
   "metadata": {},
   "outputs": [],
   "source": [
    "node_names, distance_matrix, node_position_dict = read_csv_file('adjacency_matrix.csv')"
   ]
  },
  {
   "cell_type": "markdown",
   "metadata": {},
   "source": [
    "## Genetic Algorithm"
   ]
  },
  {
   "cell_type": "markdown",
   "metadata": {},
   "source": [
    "### Aux Funcions:"
   ]
  },
  {
   "cell_type": "code",
   "execution_count": 54,
   "metadata": {},
   "outputs": [],
   "source": [
    "# Creates a permutation of all nodes\n",
    "# Returns: List of the path,total distance\n",
    "\n",
    "def GetRandomChromosome():\n",
    "    individual = np.random.permutation(node_names[1:])\n",
    "    individual = np.append(individual, node_names[0])\n",
    "    individual = np.append(np.array([node_names[0]]), individual)\n",
    "    distance = objectiveFunction(node_names, distance_matrix, individual, node_position_dict)\n",
    "    return [individual, distance]"
   ]
  },
  {
   "cell_type": "code",
   "execution_count": 55,
   "metadata": {},
   "outputs": [],
   "source": [
    "# Creates a population of random chromosomes\n",
    "# Returns: List of Chromosomes\n",
    "\n",
    "def GetPopulation(n = 0):\n",
    "    \n",
    "    return [GetRandomChromosome() for _ in range(n)] # O(n)"
   ]
  },
  {
   "cell_type": "markdown",
   "metadata": {},
   "source": [
    "#### Roulette Selection"
   ]
  },
  {
   "cell_type": "code",
   "execution_count": 56,
   "metadata": {},
   "outputs": [],
   "source": [
    "# Sums the total weights of chromosomes\n",
    "# Returns a list of proportions\n",
    "\n",
    "def GetProportion(population):\n",
    "    total = 0\n",
    "    for chromosome in population:\n",
    "        total += 1/chromosome[1]\n",
    "    \n",
    "    proportion = []\n",
    "    for chromosome in population:\n",
    "        proportion.append((1/chromosome[1])/total)\n",
    "\n",
    "    return proportion"
   ]
  },
  {
   "cell_type": "code",
   "execution_count": 57,
   "metadata": {},
   "outputs": [],
   "source": [
    "def RouletteSelection(proportions):\n",
    "    selection = random.random()\n",
    "\n",
    "    acum = 0\n",
    "\n",
    "    for i, prop  in enumerate(proportions):\n",
    "        acum += prop\n",
    "        if selection < acum:\n",
    "            return i\n"
   ]
  },
  {
   "cell_type": "markdown",
   "metadata": {},
   "source": [
    "##### Roulette Selected Chromosome"
   ]
  },
  {
   "cell_type": "code",
   "execution_count": 58,
   "metadata": {},
   "outputs": [
    {
     "name": "stdout",
     "output_type": "stream",
     "text": [
      "[array(['A', 'G', 'F', 'E', 'D', 'J', 'I', 'B', 'H', 'C', 'A'],\n",
      "      dtype=object), 451]\n"
     ]
    }
   ],
   "source": [
    "population = GetPopulation(10)\n",
    "\n",
    "proportion = GetProportion(population)\n",
    "\n",
    "# The way of getting a Roulette Selected Chromosome\n",
    "selected = population[RouletteSelection(proportion)]\n",
    "print(selected)"
   ]
  },
  {
   "cell_type": "markdown",
   "metadata": {},
   "source": [
    "#### Tournament Selection"
   ]
  },
  {
   "cell_type": "code",
   "execution_count": 59,
   "metadata": {},
   "outputs": [],
   "source": [
    "def TournamentSelection(population, k=2):\n",
    "    community = random.sample(population, k)\n",
    "    localElite = population[0]\n",
    "    \n",
    "    for chromosome in community:\n",
    "        if chromosome[1] < localElite[1]:\n",
    "            localElite = chromosome\n",
    "            \n",
    "    return localElite"
   ]
  },
  {
   "cell_type": "markdown",
   "metadata": {},
   "source": [
    "##### Tournament Selected Chromosome"
   ]
  },
  {
   "cell_type": "code",
   "execution_count": 60,
   "metadata": {},
   "outputs": [
    {
     "data": {
      "text/plain": [
       "[array(['A', 'G', 'C', 'I', 'J', 'D', 'E', 'F', 'B', 'H', 'A'],\n",
       "       dtype=object),\n",
       " 459]"
      ]
     },
     "execution_count": 60,
     "metadata": {},
     "output_type": "execute_result"
    }
   ],
   "source": [
    "population = GetPopulation(10)\n",
    "\n",
    "TournamentSelection(population, 5)"
   ]
  },
  {
   "cell_type": "code",
   "execution_count": 78,
   "metadata": {},
   "outputs": [],
   "source": [
    "def pointCrossover(A, B, rp, n, node_names, distance_matrix, node_position_dict):\n",
    "    aux=random.random()\n",
    "    if aux<=rp:\n",
    "        crosspoint=random.randint(0,n)\n",
    "        offspring=copy.deepcopy(A[0][:crosspoint])\n",
    "        offspring=np.append(offspring,copy.deepcopy(B[0][crosspoint:]))\n",
    "        dist=objectiveFunction(node_names, distance_matrix, offspring, node_position_dict)\n",
    "        if dist==-1:\n",
    "            return copy.deepcopy(A)\n",
    "        else:\n",
    "            return [offspring,dist]\n",
    "        \n",
    "    else:\n",
    "        return copy.deepcopy(A)\n",
    "        \n",
    "    "
   ]
  },
  {
   "cell_type": "code",
   "execution_count": 89,
   "metadata": {},
   "outputs": [],
   "source": [
    "def swapMutation(A,rp,n,node_names,distance_matrix,node_position_dict):\n",
    "    elementA=random.randint(1,n-1)\n",
    "    elementB=random.randint(1,n-1)\n",
    "    aux=A[0][elementA]\n",
    "    A[0][elementA]=A[0][elementB]\n",
    "    A[0][elementB]=aux\n",
    "    A[1]=objectiveFunction(node_names, distance_matrix, A[0], node_position_dict)\n",
    "    \n",
    "    "
   ]
  },
  {
   "cell_type": "code",
   "execution_count": 90,
   "metadata": {},
   "outputs": [],
   "source": [
    "def fitness_calculation(individual):\n",
    "    fitness_value = sum(individual)\n",
    "    return fitness_value"
   ]
  },
  {
   "cell_type": "code",
   "execution_count": 91,
   "metadata": {},
   "outputs": [],
   "source": [
    "def getElite(A, B):\n",
    "    if A is None: return B\n",
    "    if B is None: return A\n",
    "    return A if objectiveFunction(node_names, distance_matrix, A[0], node_position_dict) < objectiveFunction(node_names, distance_matrix, B[0], node_position_dict) else B"
   ]
  },
  {
   "cell_type": "markdown",
   "metadata": {},
   "source": [
    "### Main Algorithm"
   ]
  },
  {
   "cell_type": "code",
   "execution_count": 92,
   "metadata": {},
   "outputs": [],
   "source": [
    "def geneticAlgorithm(nCities,N, G, Pr, Pm):\n",
    "    eliteIndividual = None\n",
    "\n",
    "    fatherPopulation = GetPopulation(N) # First Gen\n",
    "    sonPopulation = []\n",
    "\n",
    "    actualGeneration = 0\n",
    "\n",
    "    while actualGeneration < G: # OR we haven't found a good solution\n",
    "\n",
    "        for _ in range(100):\n",
    "            G11 = TournamentSelection(population)\n",
    "            G12 = TournamentSelection(population)\n",
    "\n",
    "            G21 = pointCrossover(G11, G12, Pr, nCities, node_names, distance_matrix, node_position_dict)\n",
    "            swapMutation(G21, Pr, nCities, node_names, distance_matrix, node_position_dict)\n",
    "            \n",
    "            sonPopulation.append(G21)\n",
    "            eliteIndividual = getElite(G21, eliteIndividual)\n",
    "        \n",
    "        fatherPopulation = sonPopulation\n",
    "        sonPopulation = []\n",
    "\n",
    "        actualGeneration += 1\n",
    "    \n",
    "    return eliteIndividual\n"
   ]
  },
  {
   "cell_type": "code",
   "execution_count": 93,
   "metadata": {},
   "outputs": [
    {
     "name": "stdout",
     "output_type": "stream",
     "text": [
      "[array(['A', 'G', 'C', 'F', 'J', 'D', 'E', 'I', 'B', 'H', 'A'],\n",
      "      dtype=object), 321]\n"
     ]
    }
   ],
   "source": [
    "N = 30\n",
    "nCities=10\n",
    "G = 100\n",
    "Pr = 0.8\n",
    "Pm = 0.3\n",
    "\n",
    "print(geneticAlgorithm(nCities,N, G, Pr, Pm))"
   ]
  },
  {
   "cell_type": "code",
   "execution_count": null,
   "metadata": {},
   "outputs": [],
   "source": []
  },
  {
   "cell_type": "code",
   "execution_count": null,
   "metadata": {},
   "outputs": [],
   "source": []
  }
 ],
 "metadata": {
  "kernelspec": {
   "display_name": "Python 3 (ipykernel)",
   "language": "python",
   "name": "python3"
  },
  "language_info": {
   "codemirror_mode": {
    "name": "ipython",
    "version": 3
   },
   "file_extension": ".py",
   "mimetype": "text/x-python",
   "name": "python",
   "nbconvert_exporter": "python",
   "pygments_lexer": "ipython3",
   "version": "3.8.3"
  },
  "vscode": {
   "interpreter": {
    "hash": "9c80a7e3a2de4dde693dabf38008612d40fcac8e48a425c55413d53e2fda1a28"
   }
  }
 },
 "nbformat": 4,
 "nbformat_minor": 2
}
