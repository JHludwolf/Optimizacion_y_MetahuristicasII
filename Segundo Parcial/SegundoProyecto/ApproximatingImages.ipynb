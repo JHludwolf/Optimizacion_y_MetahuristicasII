{
 "cells": [
  {
   "cell_type": "code",
   "execution_count": 1,
   "metadata": {},
   "outputs": [],
   "source": [
    "import os\n",
    "import cv2\n",
    "import random\n",
    "import numpy as np\n",
    "import matplotlib.pyplot as plt"
   ]
  },
  {
   "cell_type": "markdown",
   "metadata": {},
   "source": [
    "# Approximating Images with circles using Differential Evolution Algorithms\n"
   ]
  },
  {
   "cell_type": "code",
   "execution_count": 2,
   "metadata": {},
   "outputs": [],
   "source": [
    "from Fitness import Fitness\n",
    "from Specie import Specie\n",
    "from differential_evolution import differential_evolution\n",
    "from AuxFunctions import show_image, load_image"
   ]
  },
  {
   "cell_type": "code",
   "execution_count": 3,
   "metadata": {},
   "outputs": [
    {
     "data": {
      "image/png": "[encoded data removed]",
      "text/plain": [
       "<Figure size 432x288 with 1 Axes>"
      ]
     },
     "metadata": {
      "needs_background": "light"
     },
     "output_type": "display_data"
    }
   ],
   "source": [
    "target = load_image('./arbol.png', size=(16, 16))\n",
    "show_image(target)"
   ]
  },
  {
   "cell_type": "code",
   "execution_count": 4,
   "metadata": {},
   "outputs": [],
   "source": [
    "fitness = Fitness(target)"
   ]
  },
  {
   "cell_type": "code",
   "execution_count": 5,
   "metadata": {},
   "outputs": [
    {
     "name": "stdout",
     "output_type": "stream",
     "text": [
      "GEN 0, FIT 0.88509793\n",
      "GEN 1, FIT 0.91967536\n",
      "GEN 2, FIT 0.93533463\n",
      "GEN 3, FIT 0.93923901\n",
      "GEN 4, FIT 0.94133694\n",
      "GEN 5, FIT 0.94349083\n",
      "GEN 6, FIT 0.94593861\n",
      "GEN 7, FIT 0.94831019\n",
      "GEN 8, FIT 0.95122334\n",
      "GEN 9, FIT 0.95172450\n",
      "GEN 10, FIT 0.95292688\n",
      "GEN 11, FIT 0.95348750\n",
      "GEN 12, FIT 0.95631918\n",
      "GEN 13, FIT 0.95773083\n",
      "GEN 14, FIT 0.95928673\n",
      "GEN 15, FIT 0.96108060\n",
      "GEN 16, FIT 0.96114518\n",
      "GEN 17, FIT 0.96420637\n",
      "GEN 18, FIT 0.96485176\n",
      "GEN 19, FIT 0.96542999\n",
      "GEN 20, FIT 0.96560937\n",
      "GEN 21, FIT 0.96571599\n",
      "GEN 22, FIT 0.96585641\n",
      "GEN 23, FIT 0.96605138\n",
      "GEN 24, FIT 0.96674545\n",
      "GEN 25, FIT 0.96802339\n",
      "GEN 26, FIT 0.96815941\n",
      "GEN 27, FIT 0.96847014\n",
      "GEN 28, FIT 0.96871453\n",
      "GEN 29, FIT 0.96938662\n",
      "GEN 30, FIT 0.96959080\n",
      "GEN 31, FIT 0.96962373\n",
      "GEN 32, FIT 0.96981340\n",
      "GEN 33, FIT 0.97122433\n",
      "GEN 34, FIT 0.97176011\n",
      "GEN 35, FIT 0.97189378\n",
      "GEN 36, FIT 0.97207252\n",
      "GEN 37, FIT 0.97248983\n",
      "GEN 38, FIT 0.97335687\n",
      "GEN 39, FIT 0.97360258\n",
      "GEN 40, FIT 0.97382255\n",
      "GEN 41, FIT 0.97394685\n",
      "GEN 42, FIT 0.97404943\n",
      "GEN 43, FIT 0.97407133\n",
      "GEN 44, FIT 0.97407905\n",
      "GEN 45, FIT 0.97424787\n",
      "GEN 46, FIT 0.97424888\n",
      "GEN 47, FIT 0.97470120\n",
      "GEN 48, FIT 0.97477151\n",
      "GEN 49, FIT 0.97480117\n",
      "GEN 50, FIT 0.97516706\n",
      "GEN 51, FIT 0.97528284\n",
      "GEN 52, FIT 0.97537018\n",
      "GEN 53, FIT 0.97537725\n",
      "GEN 54, FIT 0.97542754\n",
      "GEN 55, FIT 0.97544680\n",
      "GEN 56, FIT 0.97546808\n",
      "GEN 57, FIT 0.97562963\n",
      "GEN 58, FIT 0.97563047\n",
      "GEN 59, FIT 0.97576304\n",
      "GEN 60, FIT 0.97582002\n",
      "GEN 61, FIT 0.97614266\n",
      "GEN 62, FIT 0.97615261\n",
      "GEN 63, FIT 0.97661669\n",
      "GEN 64, FIT 0.97680406\n",
      "GEN 65, FIT 0.97681787\n",
      "GEN 66, FIT 0.97796165\n",
      "GEN 67, FIT 0.97823333\n",
      "GEN 68, FIT 0.97824085\n",
      "GEN 69, FIT 0.97824188\n",
      "GEN 70, FIT 0.97827273\n",
      "GEN 71, FIT 0.97829679\n",
      "GEN 72, FIT 0.97832389\n",
      "GEN 73, FIT 0.97834546\n",
      "GEN 74, FIT 0.97835368\n",
      "GEN 75, FIT 0.97838676\n",
      "GEN 76, FIT 0.97839013\n",
      "GEN 77, FIT 0.97839847\n",
      "GEN 78, FIT 0.97840581\n",
      "GEN 79, FIT 0.97840581\n",
      "GEN 80, FIT 0.97855426\n",
      "GEN 81, FIT 0.97918919\n",
      "GEN 82, FIT 0.97919130\n",
      "GEN 83, FIT 0.97968641\n",
      "GEN 84, FIT 0.97972126\n",
      "GEN 85, FIT 0.97981790\n",
      "GEN 86, FIT 0.98002826\n",
      "GEN 87, FIT 0.98006692\n",
      "GEN 88, FIT 0.98025557\n",
      "GEN 89, FIT 0.98026047\n",
      "GEN 90, FIT 0.98074521\n",
      "GEN 91, FIT 0.98085118\n",
      "GEN 92, FIT 0.98087232\n",
      "GEN 93, FIT 0.98087858\n",
      "GEN 94, FIT 0.98090392\n",
      "GEN 95, FIT 0.98090432\n",
      "GEN 96, FIT 0.98118789\n",
      "GEN 97, FIT 0.98136012\n",
      "GEN 98, FIT 0.98136502\n",
      "GEN 99, FIT 0.98140881\n"
     ]
    }
   ],
   "source": [
    "approx = differential_evolution(target, Fitness, genes=128, niter=100)"
   ]
  },
  {
   "cell_type": "code",
   "execution_count": 6,
   "metadata": {},
   "outputs": [
    {
     "data": {
      "image/png": "[encoded data removed]",
      "text/plain": [
       "<Figure size 720x360 with 2 Axes>"
      ]
     },
     "metadata": {
      "needs_background": "light"
     },
     "output_type": "display_data"
    }
   ],
   "source": [
    "approx.genotype_to_image()\n",
    "fitness.show_fitness(approx.phenotype)"
   ]
  },
  {
   "cell_type": "code",
   "execution_count": null,
   "metadata": {},
   "outputs": [],
   "source": []
  }
 ],
 "metadata": {
  "kernelspec": {
   "display_name": "Python 3.8.3 ('base')",
   "language": "python",
   "name": "python3"
  },
  "language_info": {
   "codemirror_mode": {
    "name": "ipython",
    "version": 3
   },
   "file_extension": ".py",
   "mimetype": "text/x-python",
   "name": "python",
   "nbconvert_exporter": "python",
   "pygments_lexer": "ipython3",
   "version": "3.8.3"
  },
  "orig_nbformat": 4,
  "vscode": {
   "interpreter": {
    "hash": "9c80a7e3a2de4dde693dabf38008612d40fcac8e48a425c55413d53e2fda1a28"
   }
  }
 },
 "nbformat": 4,
 "nbformat_minor": 2
}
