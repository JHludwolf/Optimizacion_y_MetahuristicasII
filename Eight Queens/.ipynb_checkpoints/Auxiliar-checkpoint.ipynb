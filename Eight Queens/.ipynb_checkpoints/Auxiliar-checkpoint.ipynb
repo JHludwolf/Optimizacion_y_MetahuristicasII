{
 "cells": [
  {
   "cell_type": "code",
   "execution_count": 1,
   "id": "e619d8bc",
   "metadata": {},
   "outputs": [],
   "source": [
    "import numpy as np\n",
    "import pandas as pd\n",
    "import matplotlib.pyplot as plt\n",
    "import math \n",
    "import random\n",
    "import copy"
   ]
  },
  {
   "cell_type": "code",
   "execution_count": 7,
   "id": "11cbc5bc",
   "metadata": {},
   "outputs": [],
   "source": [
    "def getProposal(n):\n",
    "    r= np.arange(n)\n",
    "    r=np.random.permutation(r)\n",
    "    #print(r)\n",
    "    return r"
   ]
  },
  {
   "cell_type": "code",
   "execution_count": 6,
   "id": "38457d80",
   "metadata": {},
   "outputs": [
    {
     "name": "stdout",
     "output_type": "stream",
     "text": [
      "[7 4 1 0 3 5 2 6]\n"
     ]
    }
   ],
   "source": [
    "a=getProposal(8)\n",
    "print(a)"
   ]
  },
  {
   "cell_type": "code",
   "execution_count": 13,
   "id": "7ddcdc59",
   "metadata": {},
   "outputs": [],
   "source": [
    "def validation(posiciones,nreina):\n",
    "    for i in range(0,nreina):\n",
    "        if(posiciones[i]==posiciones[nreina]):\n",
    "            return False\n",
    "        if((posiciones[i]+i)==(posiciones[nreina]+nreina)):\n",
    "    \n",
    "            return False\n",
    "        if((posiciones[i]-i)==(posiciones[nreina]-nreina)):\n",
    "            return False\n",
    "    return True"
   ]
  },
  {
   "cell_type": "code",
   "execution_count": 14,
   "id": "f3a2e764",
   "metadata": {},
   "outputs": [
    {
     "name": "stdout",
     "output_type": "stream",
     "text": [
      "False\n"
     ]
    }
   ],
   "source": [
    "print(validation(a,7))"
   ]
  },
  {
   "cell_type": "code",
   "execution_count": null,
   "id": "dfa9b7f8",
   "metadata": {},
   "outputs": [],
   "source": []
  }
 ],
 "metadata": {
  "kernelspec": {
   "display_name": "Python 3 (ipykernel)",
   "language": "python",
   "name": "python3"
  },
  "language_info": {
   "codemirror_mode": {
    "name": "ipython",
    "version": 3
   },
   "file_extension": ".py",
   "mimetype": "text/x-python",
   "name": "python",
   "nbconvert_exporter": "python",
   "pygments_lexer": "ipython3",
   "version": "3.9.12"
  }
 },
 "nbformat": 4,
 "nbformat_minor": 5
}
